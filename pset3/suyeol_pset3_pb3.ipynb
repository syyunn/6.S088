{
 "cells": [
  {
   "cell_type": "markdown",
   "id": "463a4aa5",
   "metadata": {},
   "source": [
    "## Problem 3"
   ]
  },
  {
   "cell_type": "code",
   "execution_count": 1,
   "id": "c0a1f5a5",
   "metadata": {},
   "outputs": [],
   "source": [
    "import torch\n",
    "import numpy as np"
   ]
  },
  {
   "cell_type": "code",
   "execution_count": 2,
   "id": "ef992784",
   "metadata": {},
   "outputs": [],
   "source": [
    "torch.manual_seed(2139)\n",
    "z = torch.normal(0, 1 , size=(100, 100), requires_grad=True)"
   ]
  },
  {
   "cell_type": "code",
   "execution_count": 3,
   "id": "b7f9668c",
   "metadata": {},
   "outputs": [
    {
     "data": {
      "text/plain": [
       "torch.Size([100, 100])"
      ]
     },
     "execution_count": 3,
     "metadata": {},
     "output_type": "execute_result"
    }
   ],
   "source": [
    "z.shape"
   ]
  },
  {
   "cell_type": "code",
   "execution_count": 4,
   "id": "9883b777",
   "metadata": {},
   "outputs": [],
   "source": [
    "k = 50"
   ]
  },
  {
   "cell_type": "markdown",
   "id": "f74efb2a",
   "metadata": {},
   "source": [
    "### (a) "
   ]
  },
  {
   "cell_type": "code",
   "execution_count": 5,
   "id": "febdf66c",
   "metadata": {
    "scrolled": true
   },
   "outputs": [],
   "source": [
    "A = torch.normal(0, 0 , size=(100, k), requires_grad=True)\n",
    "B = torch.normal(0, 0 , size=(k, 100), requires_grad=True)"
   ]
  },
  {
   "cell_type": "code",
   "execution_count": 6,
   "id": "d087e6a8",
   "metadata": {},
   "outputs": [],
   "source": [
    "def f(z):\n",
    "    return A @ B @ z"
   ]
  },
  {
   "cell_type": "code",
   "execution_count": 7,
   "id": "125d35c6",
   "metadata": {},
   "outputs": [],
   "source": [
    " # evaluating data points with Mean Square Error (MSE)\n",
    "def L(z, fz):\n",
    "    diff = z - fz \n",
    "    return 0.5 * (torch.norm(diff, p=2)**2)"
   ]
  },
  {
   "cell_type": "code",
   "execution_count": 8,
   "id": "41dd35b8",
   "metadata": {},
   "outputs": [],
   "source": [
    "steps = 10\n",
    "lr = 1e-5\n",
    "\n",
    "def train(steps, lr, A, B):\n",
    "    losses = []\n",
    "    for i in range(steps):\n",
    "        # Generate Prediction\n",
    "        fz = f(z)\n",
    "        # Get the loss and perform backpropagation\n",
    "        loss = L(z, fz)\n",
    "        losses.append(loss)\n",
    "        loss.backward() # get gradient\n",
    "        # Let's update the weights\n",
    "        with torch.no_grad():\n",
    "            A -= lr * A.grad\n",
    "            B -= lr * B.grad\n",
    "            # Set the gradients to zero\n",
    "            A.grad.zero_()\n",
    "            B.grad.zero_()\n",
    "#         print(f\"step {i}: Loss: {loss}\")\n",
    "    print(f\"A==0: \", torch.all(A==0))\n",
    "    print(f\"B==0: \", torch.all(B==0))\n",
    "    print(f\"minimal loss achieved: {min(losses)}\")"
   ]
  },
  {
   "cell_type": "code",
   "execution_count": 9,
   "id": "1b086a39",
   "metadata": {},
   "outputs": [
    {
     "name": "stdout",
     "output_type": "stream",
     "text": [
      "A==0:  tensor(True)\n",
      "B==0:  tensor(True)\n",
      "minimal loss achieved: 4919.1142578125\n"
     ]
    }
   ],
   "source": [
    "train(steps, lr, A, B)"
   ]
  },
  {
   "cell_type": "markdown",
   "id": "1d7179a8",
   "metadata": {},
   "source": [
    "Weights after training is always $0$ - because $L(w)$ is always $0$ thus results in gradients of $0$ which means no update."
   ]
  },
  {
   "cell_type": "markdown",
   "id": "db9a2363",
   "metadata": {},
   "source": [
    "### (b)"
   ]
  },
  {
   "cell_type": "code",
   "execution_count": 10,
   "id": "c4f79768",
   "metadata": {},
   "outputs": [],
   "source": [
    "A = torch.normal(0, 1/k , size=(100, k), requires_grad=True)\n",
    "B = torch.normal(0, 1/k , size=(k, 100), requires_grad=True)"
   ]
  },
  {
   "cell_type": "code",
   "execution_count": 11,
   "id": "07b115f7",
   "metadata": {},
   "outputs": [
    {
     "name": "stdout",
     "output_type": "stream",
     "text": [
      "lr:  0.0001\n",
      "A==0:  tensor(False)\n",
      "B==0:  tensor(False)\n",
      "minimal loss achieved: 518.71435546875\n",
      "lr:  0.001\n",
      "A==0:  tensor(False)\n",
      "B==0:  tensor(False)\n",
      "minimal loss achieved: 506.402587890625\n",
      "lr:  0.01\n",
      "A==0:  tensor(False)\n",
      "B==0:  tensor(False)\n",
      "minimal loss achieved: 506.3055419921875\n",
      "lr:  0.1\n",
      "A==0:  tensor(False)\n",
      "B==0:  tensor(False)\n",
      "minimal loss achieved: nan\n"
     ]
    }
   ],
   "source": [
    "steps = 1000\n",
    "lrs = [1e-4, 1e-3, 1e-2, 1e-1]\n",
    "\n",
    "for lr in lrs:\n",
    "    print(\"lr: \", lr)\n",
    "    train(steps, lr, A, B)"
   ]
  },
  {
   "cell_type": "markdown",
   "id": "c0f2efaf",
   "metadata": {},
   "source": [
    "The smallest training error achieved is $506.305$ with the learning rate $0.01$."
   ]
  },
  {
   "cell_type": "markdown",
   "id": "024e966f",
   "metadata": {},
   "source": [
    "### (c) CIFAR10 (optional)"
   ]
  },
  {
   "cell_type": "code",
   "execution_count": 12,
   "id": "5fcd6012",
   "metadata": {},
   "outputs": [],
   "source": [
    "import torch\n",
    "import torchvision\n",
    "import torchvision.transforms as transforms"
   ]
  },
  {
   "cell_type": "code",
   "execution_count": 13,
   "id": "406f25b7",
   "metadata": {},
   "outputs": [
    {
     "name": "stdout",
     "output_type": "stream",
     "text": [
      "Files already downloaded and verified\n",
      "Files already downloaded and verified\n"
     ]
    }
   ],
   "source": [
    "transform = transforms.Compose(\n",
    "    [transforms.ToTensor(),\n",
    "     transforms.Normalize((0.5, 0.5, 0.5), (0.5, 0.5, 0.5))])\n",
    "\n",
    "batch_size = 1\n",
    "\n",
    "trainset = torchvision.datasets.CIFAR10(root='./data', train=True,\n",
    "                                        download=True, transform=transform)\n",
    "trainloader = torch.utils.data.DataLoader(trainset, batch_size=batch_size,\n",
    "                                          shuffle=True, num_workers=2)\n",
    "\n",
    "testset = torchvision.datasets.CIFAR10(root='./data', train=False,\n",
    "                                       download=True, transform=transform)\n",
    "testloader = torch.utils.data.DataLoader(testset, batch_size=batch_size,\n",
    "                                         shuffle=False, num_workers=2)\n",
    "\n",
    "classes = ('plane', 'car', 'bird', 'cat',\n",
    "           'deer', 'dog', 'frog', 'horse', 'ship', 'truck')"
   ]
  },
  {
   "cell_type": "code",
   "execution_count": 14,
   "id": "2a269d98",
   "metadata": {},
   "outputs": [
    {
     "data": {
      "text/plain": [
       "torch.Size([1, 3, 32, 32])"
      ]
     },
     "execution_count": 14,
     "metadata": {},
     "output_type": "execute_result"
    }
   ],
   "source": [
    "# get some random training images\n",
    "dataiter = iter(testloader)\n",
    "images, labels = next(dataiter)\n",
    "\n",
    "images.shape"
   ]
  },
  {
   "cell_type": "code",
   "execution_count": 15,
   "id": "e5298640",
   "metadata": {},
   "outputs": [],
   "source": [
    "from tqdm import tqdm\n",
    "import numpy as np\n",
    "\n",
    "k=50\n",
    "img = 3*32*32\n",
    "A = torch.normal(0, 1/k , size=(img, k), requires_grad=True)\n",
    "B = torch.normal(0, 1/k , size=(k, img), requires_grad=True)\n",
    "lr = 1e-4\n",
    "epoch = 10\n",
    "\n",
    "def f(z):\n",
    "    return A @ B @ z\n",
    "\n",
    "def train(steps, lr, A, B):\n",
    "    for e in range(epoch):\n",
    "        losses = []\n",
    "        print(\"epoch: \", e)\n",
    "        for inputs, labels in tqdm(trainloader):\n",
    "            z = inputs.view(3*32*32)\n",
    "            # Generate Prediction\n",
    "            fz = f(z)\n",
    "            # Get the loss and perform backpropagation\n",
    "            loss = L(z, fz)\n",
    "#             print(loss)\n",
    "            losses.append(loss)\n",
    "            loss.backward() # get gradient\n",
    "            # Let's update the weights\n",
    "            with torch.no_grad():\n",
    "                A -= lr * A.grad\n",
    "                B -= lr * B.grad\n",
    "                # Set the gradients to zero\n",
    "                A.grad.zero_()\n",
    "                B.grad.zero_()\n",
    "        print(f\"epoch loss: {np.mean(losses)}\")"
   ]
  },
  {
   "cell_type": "code",
   "execution_count": 16,
   "id": "9e3bb11e",
   "metadata": {},
   "outputs": [
    {
     "name": "stdout",
     "output_type": "stream",
     "text": [
      "epoch:  0\n"
     ]
    },
    {
     "name": "stderr",
     "output_type": "stream",
     "text": [
      "  1%|▏                                      | 301/50000 [00:15<43:10, 19.19it/s]\n"
     ]
    },
    {
     "ename": "KeyboardInterrupt",
     "evalue": "",
     "output_type": "error",
     "traceback": [
      "\u001b[0;31m---------------------------------------------------------------------------\u001b[0m",
      "\u001b[0;31mKeyboardInterrupt\u001b[0m                         Traceback (most recent call last)",
      "Input \u001b[0;32mIn [16]\u001b[0m, in \u001b[0;36m<cell line: 1>\u001b[0;34m()\u001b[0m\n\u001b[0;32m----> 1\u001b[0m \u001b[43mtrain\u001b[49m\u001b[43m(\u001b[49m\u001b[43msteps\u001b[49m\u001b[43m,\u001b[49m\u001b[43m \u001b[49m\u001b[43mlr\u001b[49m\u001b[43m,\u001b[49m\u001b[43m \u001b[49m\u001b[43mA\u001b[49m\u001b[43m,\u001b[49m\u001b[43m \u001b[49m\u001b[43mB\u001b[49m\u001b[43m)\u001b[49m\n",
      "Input \u001b[0;32mIn [15]\u001b[0m, in \u001b[0;36mtrain\u001b[0;34m(steps, lr, A, B)\u001b[0m\n\u001b[1;32m     24\u001b[0m \u001b[38;5;66;03m#             print(loss)\u001b[39;00m\n\u001b[1;32m     25\u001b[0m             losses\u001b[38;5;241m.\u001b[39mappend(loss)\n\u001b[0;32m---> 26\u001b[0m             \u001b[43mloss\u001b[49m\u001b[38;5;241;43m.\u001b[39;49m\u001b[43mbackward\u001b[49m\u001b[43m(\u001b[49m\u001b[43m)\u001b[49m \u001b[38;5;66;03m# get gradient\u001b[39;00m\n\u001b[1;32m     27\u001b[0m             \u001b[38;5;66;03m# Let's update the weights\u001b[39;00m\n\u001b[1;32m     28\u001b[0m             \u001b[38;5;28;01mwith\u001b[39;00m torch\u001b[38;5;241m.\u001b[39mno_grad():\n",
      "File \u001b[0;32m~/anaconda3/lib/python3.9/site-packages/torch/_tensor.py:488\u001b[0m, in \u001b[0;36mTensor.backward\u001b[0;34m(self, gradient, retain_graph, create_graph, inputs)\u001b[0m\n\u001b[1;32m    478\u001b[0m \u001b[38;5;28;01mif\u001b[39;00m has_torch_function_unary(\u001b[38;5;28mself\u001b[39m):\n\u001b[1;32m    479\u001b[0m     \u001b[38;5;28;01mreturn\u001b[39;00m handle_torch_function(\n\u001b[1;32m    480\u001b[0m         Tensor\u001b[38;5;241m.\u001b[39mbackward,\n\u001b[1;32m    481\u001b[0m         (\u001b[38;5;28mself\u001b[39m,),\n\u001b[0;32m   (...)\u001b[0m\n\u001b[1;32m    486\u001b[0m         inputs\u001b[38;5;241m=\u001b[39minputs,\n\u001b[1;32m    487\u001b[0m     )\n\u001b[0;32m--> 488\u001b[0m \u001b[43mtorch\u001b[49m\u001b[38;5;241;43m.\u001b[39;49m\u001b[43mautograd\u001b[49m\u001b[38;5;241;43m.\u001b[39;49m\u001b[43mbackward\u001b[49m\u001b[43m(\u001b[49m\n\u001b[1;32m    489\u001b[0m \u001b[43m    \u001b[49m\u001b[38;5;28;43mself\u001b[39;49m\u001b[43m,\u001b[49m\u001b[43m \u001b[49m\u001b[43mgradient\u001b[49m\u001b[43m,\u001b[49m\u001b[43m \u001b[49m\u001b[43mretain_graph\u001b[49m\u001b[43m,\u001b[49m\u001b[43m \u001b[49m\u001b[43mcreate_graph\u001b[49m\u001b[43m,\u001b[49m\u001b[43m \u001b[49m\u001b[43minputs\u001b[49m\u001b[38;5;241;43m=\u001b[39;49m\u001b[43minputs\u001b[49m\n\u001b[1;32m    490\u001b[0m \u001b[43m\u001b[49m\u001b[43m)\u001b[49m\n",
      "File \u001b[0;32m~/anaconda3/lib/python3.9/site-packages/torch/autograd/__init__.py:197\u001b[0m, in \u001b[0;36mbackward\u001b[0;34m(tensors, grad_tensors, retain_graph, create_graph, grad_variables, inputs)\u001b[0m\n\u001b[1;32m    192\u001b[0m     retain_graph \u001b[38;5;241m=\u001b[39m create_graph\n\u001b[1;32m    194\u001b[0m \u001b[38;5;66;03m# The reason we repeat same the comment below is that\u001b[39;00m\n\u001b[1;32m    195\u001b[0m \u001b[38;5;66;03m# some Python versions print out the first line of a multi-line function\u001b[39;00m\n\u001b[1;32m    196\u001b[0m \u001b[38;5;66;03m# calls in the traceback and some print out the last line\u001b[39;00m\n\u001b[0;32m--> 197\u001b[0m \u001b[43mVariable\u001b[49m\u001b[38;5;241;43m.\u001b[39;49m\u001b[43m_execution_engine\u001b[49m\u001b[38;5;241;43m.\u001b[39;49m\u001b[43mrun_backward\u001b[49m\u001b[43m(\u001b[49m\u001b[43m  \u001b[49m\u001b[38;5;66;43;03m# Calls into the C++ engine to run the backward pass\u001b[39;49;00m\n\u001b[1;32m    198\u001b[0m \u001b[43m    \u001b[49m\u001b[43mtensors\u001b[49m\u001b[43m,\u001b[49m\u001b[43m \u001b[49m\u001b[43mgrad_tensors_\u001b[49m\u001b[43m,\u001b[49m\u001b[43m \u001b[49m\u001b[43mretain_graph\u001b[49m\u001b[43m,\u001b[49m\u001b[43m \u001b[49m\u001b[43mcreate_graph\u001b[49m\u001b[43m,\u001b[49m\u001b[43m \u001b[49m\u001b[43minputs\u001b[49m\u001b[43m,\u001b[49m\n\u001b[1;32m    199\u001b[0m \u001b[43m    \u001b[49m\u001b[43mallow_unreachable\u001b[49m\u001b[38;5;241;43m=\u001b[39;49m\u001b[38;5;28;43;01mTrue\u001b[39;49;00m\u001b[43m,\u001b[49m\u001b[43m \u001b[49m\u001b[43maccumulate_grad\u001b[49m\u001b[38;5;241;43m=\u001b[39;49m\u001b[38;5;28;43;01mTrue\u001b[39;49;00m\u001b[43m)\u001b[49m\n",
      "\u001b[0;31mKeyboardInterrupt\u001b[0m: "
     ]
    }
   ],
   "source": [
    "train(steps, lr, A, B)"
   ]
  },
  {
   "cell_type": "markdown",
   "id": "3c21de0d",
   "metadata": {},
   "source": [
    "Sorry, it took so long time on cpu so give up at this point.."
   ]
  }
 ],
 "metadata": {
  "kernelspec": {
   "display_name": "Python 3 (ipykernel)",
   "language": "python",
   "name": "python3"
  },
  "language_info": {
   "codemirror_mode": {
    "name": "ipython",
    "version": 3
   },
   "file_extension": ".py",
   "mimetype": "text/x-python",
   "name": "python",
   "nbconvert_exporter": "python",
   "pygments_lexer": "ipython3",
   "version": "3.9.13"
  }
 },
 "nbformat": 4,
 "nbformat_minor": 5
}
