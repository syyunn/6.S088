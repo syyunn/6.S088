{
 "cells": [
  {
   "cell_type": "code",
   "execution_count": 15,
   "id": "3e0dba64",
   "metadata": {},
   "outputs": [],
   "source": [
    "import torch\n",
    "import torchvision\n",
    "import torchvision.transforms as transforms"
   ]
  },
  {
   "cell_type": "code",
   "execution_count": 16,
   "id": "19e1a007",
   "metadata": {
    "scrolled": true
   },
   "outputs": [
    {
     "name": "stdout",
     "output_type": "stream",
     "text": [
      "Files already downloaded and verified\n",
      "Files already downloaded and verified\n"
     ]
    }
   ],
   "source": [
    "transform = transforms.Compose(\n",
    "    [transforms.ToTensor(),\n",
    "     transforms.Normalize((0.5, 0.5, 0.5), (0.5, 0.5, 0.5))])\n",
    "\n",
    "trainset = torchvision.datasets.CIFAR10(root='./data', train=True,\n",
    "                                        download=True, transform=transform)\n",
    "trainloader = torch.utils.data.DataLoader(trainset,\n",
    "                                          shuffle=True, num_workers=2)\n",
    "\n",
    "testset = torchvision.datasets.CIFAR10(root='./data', train=False,\n",
    "                                       download=True, transform=transform)\n",
    "testloader = torch.utils.data.DataLoader(testset,\n",
    "                                         shuffle=False, num_workers=2)\n",
    "\n",
    "classes = ('plane', 'car', 'bird', 'cat',\n",
    "           'deer', 'dog', 'frog', 'horse', 'ship', 'truck')"
   ]
  },
  {
   "cell_type": "code",
   "execution_count": 17,
   "id": "326fad4f",
   "metadata": {
    "scrolled": true
   },
   "outputs": [
    {
     "data": {
      "text/plain": [
       "Dataset CIFAR10\n",
       "    Number of datapoints: 50000\n",
       "    Root location: ./data\n",
       "    Split: Train\n",
       "    StandardTransform\n",
       "Transform: Compose(\n",
       "               ToTensor()\n",
       "               Normalize(mean=(0.5, 0.5, 0.5), std=(0.5, 0.5, 0.5))\n",
       "           )"
      ]
     },
     "execution_count": 17,
     "metadata": {},
     "output_type": "execute_result"
    }
   ],
   "source": [
    "trainset"
   ]
  },
  {
   "cell_type": "code",
   "execution_count": 18,
   "id": "43cf8352",
   "metadata": {},
   "outputs": [],
   "source": [
    "import torch.nn as nn\n",
    "import torch.nn.functional as F\n",
    "\n",
    "\n",
    "class Net(nn.Module):\n",
    "    def __init__(self):\n",
    "        super(Net, self).__init__()\n",
    "        self.B = nn.Linear(3072, 1024)\n",
    "        self.A = nn.Linear(1024, 3072)\n",
    "\n",
    "    def forward(self, z):\n",
    "        z = z.view(-1, 3 * 32 * 32)\n",
    "        z = F.relu(self.B(z)) # \\phi(Bx)\n",
    "        z = self.A(z)\n",
    "        return z\n",
    "\n",
    "model = Net()"
   ]
  },
  {
   "cell_type": "code",
   "execution_count": 19,
   "id": "8dab287a",
   "metadata": {},
   "outputs": [],
   "source": [
    "criterion = nn.MSELoss()\n",
    "optimizer = torch.optim.Adam(model.parameters(), lr=0.001)"
   ]
  },
  {
   "cell_type": "code",
   "execution_count": 20,
   "id": "234694e3",
   "metadata": {},
   "outputs": [
    {
     "name": "stderr",
     "output_type": "stream",
     "text": [
      "/Users/syyun/anaconda3/lib/python3.9/site-packages/torch/nn/modules/loss.py:536: UserWarning: Using a target size (torch.Size([1])) that is different to the input size (torch.Size([1, 3072])). This will likely lead to incorrect results due to broadcasting. Please ensure they have the same size.\n",
      "  return F.mse_loss(input, target, reduction=self.reduction)\n"
     ]
    },
    {
     "name": "stdout",
     "output_type": "stream",
     "text": [
      "Epoch 1/20, train loss: 21.2273, train acc: 0.0003\n",
      "Epoch 2/20, train loss: 17.3335, train acc: 0.0002\n",
      "Epoch 3/20, train loss: 19.0601, train acc: 0.0000\n",
      "Epoch 4/20, train loss: 16.1592, train acc: 0.0000\n",
      "Epoch 5/20, train loss: 15.2623, train acc: 0.0004\n",
      "Epoch 6/20, train loss: 15.0742, train acc: 0.0036\n",
      "Epoch 7/20, train loss: 15.6041, train acc: 0.0046\n",
      "Epoch 8/20, train loss: 14.2676, train acc: 0.0024\n",
      "Epoch 9/20, train loss: 13.9647, train acc: 0.0022\n",
      "Epoch 10/20, train loss: 13.6493, train acc: 0.0025\n",
      "Epoch 11/20, train loss: 13.5693, train acc: 0.0093\n",
      "Epoch 12/20, train loss: 13.6396, train acc: 0.0036\n",
      "Epoch 13/20, train loss: 12.9596, train acc: 0.0016\n",
      "Epoch 14/20, train loss: 13.0738, train acc: 0.0027\n",
      "Epoch 15/20, train loss: 12.9390, train acc: 0.0026\n",
      "Epoch 16/20, train loss: 12.6318, train acc: 0.0041\n",
      "Epoch 17/20, train loss: 12.5821, train acc: 0.0030\n",
      "Epoch 18/20, train loss: 12.6374, train acc: 0.0038\n",
      "Epoch 19/20, train loss: 12.9973, train acc: 0.0074\n",
      "Epoch 20/20, train loss: 12.2735, train acc: 0.0058\n"
     ]
    }
   ],
   "source": [
    "# train the model\n",
    "num_epochs = 20\n",
    "train_loss_history = []\n",
    "train_acc_history = []\n",
    "# test_loss_history = []\n",
    "# test_acc_history = []\n",
    "\n",
    "# Loop through the number of epochs\n",
    "for epoch in range(num_epochs):\n",
    "    train_loss = 0.0\n",
    "    train_acc = 0.0\n",
    "    test_loss = 0.0\n",
    "    test_acc = 0.0\n",
    "\n",
    "    # set model to train mode\n",
    "    model.train()\n",
    "    # iterate over the training data\n",
    "    for inputs, labels in trainloader:\n",
    "        optimizer.zero_grad()\n",
    "        outputs = model(inputs)\n",
    "        #compute the loss\n",
    "        loss = criterion(outputs, labels.float())\n",
    "        loss.backward()\n",
    "        optimizer.step()\n",
    "        # increment the running loss and accuracy\n",
    "        train_loss += loss.item()\n",
    "        train_acc += (outputs.argmax(1) == labels).sum().item()\n",
    "\n",
    "    # calculate the average training loss and accuracy\n",
    "    train_loss /= len(trainloader)\n",
    "    train_loss_history.append(train_loss)\n",
    "    train_acc /= len(trainloader.dataset)\n",
    "    train_acc_history.append(train_acc)\n",
    "\n",
    "#     # set the model to evaluation mode\n",
    "#     model.eval()\n",
    "#     with torch.no_grad():\n",
    "#         for inputs, labels in testloader:\n",
    "#             outputs = model(inputs)\n",
    "#             loss = criterion(outputs, labels)\n",
    "#             test_loss += loss.item()\n",
    "#             test_acc += (outputs.argmax(1) == labels).sum().item()\n",
    "\n",
    "#     # calculate the average validation loss and accuracy\n",
    "#     test_loss /= len(testloader)\n",
    "#     test_loss_history.append(test_loss)\n",
    "#     test_acc /= len(testloader.dataset)\n",
    "#     test_acc_history.append(test_acc)\n",
    "\n",
    "    print(f'Epoch {epoch+1}/{num_epochs}, train loss: {train_loss:.4f}, train acc: {train_acc:.4f}')"
   ]
  },
  {
   "cell_type": "code",
   "execution_count": null,
   "id": "61a62e2d",
   "metadata": {},
   "outputs": [],
   "source": []
  }
 ],
 "metadata": {
  "kernelspec": {
   "display_name": "Python 3 (ipykernel)",
   "language": "python",
   "name": "python3"
  },
  "language_info": {
   "codemirror_mode": {
    "name": "ipython",
    "version": 3
   },
   "file_extension": ".py",
   "mimetype": "text/x-python",
   "name": "python",
   "nbconvert_exporter": "python",
   "pygments_lexer": "ipython3",
   "version": "3.9.13"
  }
 },
 "nbformat": 4,
 "nbformat_minor": 5
}
