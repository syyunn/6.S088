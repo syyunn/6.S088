{
 "cells": [
  {
   "cell_type": "markdown",
   "id": "f9062953",
   "metadata": {},
   "source": [
    "# Problem 4"
   ]
  },
  {
   "cell_type": "code",
   "execution_count": 1,
   "id": "d7319795",
   "metadata": {},
   "outputs": [],
   "source": [
    "import torch\n",
    "import torchvision\n",
    "import torchvision.transforms as transforms"
   ]
  },
  {
   "cell_type": "code",
   "execution_count": 2,
   "id": "900cf4bf",
   "metadata": {
    "scrolled": true
   },
   "outputs": [
    {
     "name": "stdout",
     "output_type": "stream",
     "text": [
      "Files already downloaded and verified\n",
      "Files already downloaded and verified\n"
     ]
    }
   ],
   "source": [
    "transform = transforms.Compose(\n",
    "    [transforms.ToTensor(),\n",
    "     transforms.Normalize((0.5, 0.5, 0.5), (0.5, 0.5, 0.5))])\n",
    "\n",
    "batch_size = 1\n",
    "\n",
    "trainset = torchvision.datasets.CIFAR10(root='./data', train=True,\n",
    "                                        download=True, transform=transform)\n",
    "trainloader = torch.utils.data.DataLoader(trainset, batch_size=batch_size,\n",
    "                                          shuffle=False, num_workers=2)\n",
    "\n",
    "testset = torchvision.datasets.CIFAR10(root='./data', train=False,\n",
    "                                       download=True, transform=transform)\n",
    "testloader = torch.utils.data.DataLoader(testset, batch_size=batch_size,\n",
    "                                         shuffle=False, num_workers=2)\n",
    "\n",
    "classes = ('plane', 'car', 'bird', 'cat',\n",
    "           'deer', 'dog', 'frog', 'horse', 'ship', 'truck')"
   ]
  },
  {
   "cell_type": "code",
   "execution_count": 3,
   "id": "63936d01",
   "metadata": {
    "scrolled": false
   },
   "outputs": [
    {
     "data": {
      "text/plain": [
       "Dataset CIFAR10\n",
       "    Number of datapoints: 50000\n",
       "    Root location: ./data\n",
       "    Split: Train\n",
       "    StandardTransform\n",
       "Transform: Compose(\n",
       "               ToTensor()\n",
       "               Normalize(mean=(0.5, 0.5, 0.5), std=(0.5, 0.5, 0.5))\n",
       "           )"
      ]
     },
     "execution_count": 3,
     "metadata": {},
     "output_type": "execute_result"
    }
   ],
   "source": [
    "trainset"
   ]
  },
  {
   "cell_type": "code",
   "execution_count": 4,
   "id": "e651e60d",
   "metadata": {},
   "outputs": [
    {
     "data": {
      "image/png": "[encoded data removed]",
      "text/plain": [
       "<Figure size 640x480 with 1 Axes>"
      ]
     },
     "metadata": {},
     "output_type": "display_data"
    },
    {
     "name": "stdout",
     "output_type": "stream",
     "text": [
      "frog \n"
     ]
    }
   ],
   "source": [
    "import matplotlib.pyplot as plt\n",
    "import numpy as np\n",
    "\n",
    "# functions to show an image\n",
    "\n",
    "\n",
    "def imshow(img):\n",
    "    img = img / 2 + 0.5     # unnormalize\n",
    "    npimg = img.numpy()\n",
    "    plt.imshow(np.transpose(npimg, (1, 2, 0)))\n",
    "    plt.show()\n",
    "\n",
    "\n",
    "# get some random training images\n",
    "dataiter = iter(trainloader)\n",
    "z1, labels = next(dataiter)\n",
    "\n",
    "# show images\n",
    "imshow(torchvision.utils.make_grid(z1))\n",
    "# print labels\n",
    "print(' '.join(f'{classes[labels[j]]:5s}' for j in range(batch_size)))"
   ]
  },
  {
   "cell_type": "markdown",
   "id": "2cf65be6",
   "metadata": {},
   "source": [
    "### (a) Train an image with an error less than 1e-5"
   ]
  },
  {
   "cell_type": "code",
   "execution_count": 5,
   "id": "b5daa3aa",
   "metadata": {},
   "outputs": [],
   "source": [
    "import torch.nn as nn\n",
    "import torch.nn.functional as F\n",
    "\n",
    "class Net(nn.Module):\n",
    "    def __init__(self, k):\n",
    "        super(Net, self).__init__()\n",
    "        self.k = k\n",
    "        self.B = nn.Linear(3 * 32 * 32, self.k, bias=False)\n",
    "        self.A = nn.Linear(self.k, 3 * 32 * 32, bias=False)\n",
    "\n",
    "    def forward(self, x):\n",
    "        x = x.view(-1, 3 * 32 * 32) # [batchsize, 3072]\n",
    "        x = self.B(x)\n",
    "        x = F.relu(x)\n",
    "        x = self.A(x) \n",
    "        return x\n",
    "\n",
    "f = Net(k=1024)"
   ]
  },
  {
   "cell_type": "code",
   "execution_count": 6,
   "id": "58fc36b6",
   "metadata": {},
   "outputs": [],
   "source": [
    "# evaluating data points with Mean Square Error (MSE)\n",
    "def L(x, fx):\n",
    "    x = x.view(-1, 3 * 32 * 32)\n",
    "    diff = x - fx \n",
    "    return 0.5 * (torch.norm(diff, p=2)**2)"
   ]
  },
  {
   "cell_type": "code",
   "execution_count": 7,
   "id": "d378033a",
   "metadata": {},
   "outputs": [],
   "source": [
    "steps = 100\n",
    "lr = 1e-3\n",
    "\n",
    "def train(steps, lr):\n",
    "    losses = []\n",
    "    for i in range(steps):\n",
    "        # Generate Prediction\n",
    "        fx = f(z1)\n",
    "        # Get the loss and perform backpropagation\n",
    "        loss = L(z1, fx)\n",
    "        losses.append(loss)\n",
    "        loss.backward() # get gradient\n",
    "        # Let's update the weights\n",
    "        with torch.no_grad():\n",
    "            f.A.weight -= lr * f.A.weight.grad\n",
    "            f.B.weight -= lr * f.B.weight.grad\n",
    "            # Set the gradients to zero\n",
    "            f.A.weight.grad.zero_()\n",
    "            f.B.weight.grad.zero_()\n",
    "        print(f\"step {i}: Loss: {loss}\")\n",
    "    print(f\"minimal loss achieved: {min(losses)}\")"
   ]
  },
  {
   "cell_type": "code",
   "execution_count": 8,
   "id": "aa274aa2",
   "metadata": {},
   "outputs": [
    {
     "name": "stdout",
     "output_type": "stream",
     "text": [
      "step 0: Loss: 325.329833984375\n",
      "step 1: Loss: 273.7133483886719\n",
      "step 2: Loss: 244.14212036132812\n",
      "step 3: Loss: 198.89141845703125\n",
      "step 4: Loss: 139.93614196777344\n",
      "step 5: Loss: 81.38546752929688\n",
      "step 6: Loss: 39.56410598754883\n",
      "step 7: Loss: 17.088428497314453\n",
      "step 8: Loss: 6.952592849731445\n",
      "step 9: Loss: 2.7564098834991455\n",
      "step 10: Loss: 1.081404447555542\n",
      "step 11: Loss: 0.4225172996520996\n",
      "step 12: Loss: 0.1648177206516266\n",
      "step 13: Loss: 0.06425297260284424\n",
      "step 14: Loss: 0.025042491033673286\n",
      "step 15: Loss: 0.009759376756846905\n",
      "step 16: Loss: 0.003803201951086521\n",
      "step 17: Loss: 0.0014820826472714543\n",
      "step 18: Loss: 0.0005775515455752611\n",
      "step 19: Loss: 0.00022506603272631764\n",
      "step 20: Loss: 8.770507702138275e-05\n",
      "step 21: Loss: 3.41781233146321e-05\n",
      "step 22: Loss: 1.3318700439413078e-05\n",
      "step 23: Loss: 5.19000332133146e-06\n",
      "step 24: Loss: 2.0226091237418586e-06\n",
      "step 25: Loss: 7.881436658863095e-07\n",
      "step 26: Loss: 3.0718047128175385e-07\n",
      "step 27: Loss: 1.196830083927125e-07\n",
      "step 28: Loss: 4.663068509103141e-08\n",
      "step 29: Loss: 1.8179873606527508e-08\n",
      "step 30: Loss: 7.100092513923073e-09\n",
      "step 31: Loss: 2.7733082497150008e-09\n",
      "step 32: Loss: 1.0935854444227289e-09\n",
      "step 33: Loss: 4.4747863747751637e-10\n",
      "step 34: Loss: 2.041107144412635e-10\n",
      "step 35: Loss: 1.1425811685672471e-10\n",
      "step 36: Loss: 7.551961139773411e-11\n",
      "step 37: Loss: 5.577729944583609e-11\n",
      "step 38: Loss: 4.2543746303636e-11\n",
      "step 39: Loss: 3.4071839100091594e-11\n",
      "step 40: Loss: 2.7972523602981525e-11\n",
      "step 41: Loss: 2.354040053165196e-11\n",
      "step 42: Loss: 2.025936189642419e-11\n",
      "step 43: Loss: 1.7818900868715737e-11\n",
      "step 44: Loss: 1.579360080217196e-11\n",
      "step 45: Loss: 1.4059483612050006e-11\n",
      "step 46: Loss: 1.2719950960582427e-11\n",
      "step 47: Loss: 1.1545031423920715e-11\n",
      "step 48: Loss: 1.012597037469698e-11\n",
      "step 49: Loss: 9.23511180722647e-12\n",
      "step 50: Loss: 8.365031757551211e-12\n",
      "step 51: Loss: 7.517048615512945e-12\n",
      "step 52: Loss: 6.829037335620569e-12\n",
      "step 53: Loss: 6.275987975840058e-12\n",
      "step 54: Loss: 5.700450528278722e-12\n",
      "step 55: Loss: 5.5734878517954556e-12\n",
      "step 56: Loss: 5.199500986013961e-12\n",
      "step 57: Loss: 4.980309567526042e-12\n",
      "step 58: Loss: 4.499964637028064e-12\n",
      "step 59: Loss: 4.109062048951451e-12\n",
      "step 60: Loss: 3.924071137473284e-12\n",
      "step 61: Loss: 3.685220531512989e-12\n",
      "step 62: Loss: 3.554077388293053e-12\n",
      "step 63: Loss: 3.2659242064220217e-12\n",
      "step 64: Loss: 3.1987136463879073e-12\n",
      "step 65: Loss: 3.0448976673369543e-12\n",
      "step 66: Loss: 2.988852004434661e-12\n",
      "step 67: Loss: 3.1237720743426678e-12\n",
      "step 68: Loss: 2.5516674276998552e-12\n",
      "step 69: Loss: 2.611591281773129e-12\n",
      "step 70: Loss: 2.3714569804406116e-12\n",
      "step 71: Loss: 2.5601135794639518e-12\n",
      "step 72: Loss: 2.2941386203928493e-12\n",
      "step 73: Loss: 2.2238042570593697e-12\n",
      "step 74: Loss: 2.031854068676453e-12\n",
      "step 75: Loss: 2.0095450910945223e-12\n",
      "step 76: Loss: 2.1124907378933244e-12\n",
      "step 77: Loss: 1.995121299072644e-12\n",
      "step 78: Loss: 1.8691504507367673e-12\n",
      "step 79: Loss: 1.846523151396995e-12\n",
      "step 80: Loss: 1.812966443637265e-12\n",
      "step 81: Loss: 1.6090878629526628e-12\n",
      "step 82: Loss: 1.6250682440335784e-12\n",
      "step 83: Loss: 1.5416921211874879e-12\n",
      "step 84: Loss: 1.535273752746591e-12\n",
      "step 85: Loss: 1.461442186885542e-12\n",
      "step 86: Loss: 1.3970768986126814e-12\n",
      "step 87: Loss: 1.3399627544694037e-12\n",
      "step 88: Loss: 1.2956529295629626e-12\n",
      "step 89: Loss: 1.2132395782460392e-12\n",
      "step 90: Loss: 1.2527132109418915e-12\n",
      "step 91: Loss: 1.2355256791621305e-12\n",
      "step 92: Loss: 1.1848438896677749e-12\n",
      "step 93: Loss: 1.1214987272190058e-12\n",
      "step 94: Loss: 1.084703615990279e-12\n",
      "step 95: Loss: 1.192540857730684e-12\n",
      "step 96: Loss: 1.0977885267493548e-12\n",
      "step 97: Loss: 9.348216645221896e-13\n",
      "step 98: Loss: 9.883848297101427e-13\n",
      "step 99: Loss: 9.945187035009795e-13\n",
      "minimal loss achieved: 9.348216645221896e-13\n"
     ]
    }
   ],
   "source": [
    "train(steps, lr)"
   ]
  },
  {
   "cell_type": "markdown",
   "id": "2d5ee5f2",
   "metadata": {},
   "source": [
    "### (b) Visualize"
   ]
  },
  {
   "cell_type": "markdown",
   "id": "4c006b6b",
   "metadata": {},
   "source": [
    "#### Training image"
   ]
  },
  {
   "cell_type": "code",
   "execution_count": 9,
   "id": "b868c131",
   "metadata": {},
   "outputs": [
    {
     "data": {
      "image/png": "[encoded data removed]",
      "text/plain": [
       "<Figure size 640x480 with 1 Axes>"
      ]
     },
     "metadata": {},
     "output_type": "display_data"
    }
   ],
   "source": [
    "pred = f(z1)\n",
    "pred = pred.reshape_as(z1)\n",
    "pred = pred.detach()\n",
    "imshow(torchvision.utils.make_grid(pred))"
   ]
  },
  {
   "cell_type": "markdown",
   "id": "04a79261",
   "metadata": {},
   "source": [
    "#### Random training image"
   ]
  },
  {
   "cell_type": "code",
   "execution_count": 10,
   "id": "dbf1c647",
   "metadata": {},
   "outputs": [
    {
     "data": {
      "image/png": "[encoded data removed]",
      "text/plain": [
       "<Figure size 640x480 with 1 Axes>"
      ]
     },
     "metadata": {},
     "output_type": "display_data"
    },
    {
     "name": "stdout",
     "output_type": "stream",
     "text": [
      "truck\n"
     ]
    }
   ],
   "source": [
    "# Random training image\n",
    "random_train, labels = next(dataiter)\n",
    "imshow(torchvision.utils.make_grid(random_train))\n",
    "print(' '.join(f'{classes[labels[j]]:5s}' for j in range(batch_size)))"
   ]
  },
  {
   "cell_type": "code",
   "execution_count": 11,
   "id": "84511dc6",
   "metadata": {},
   "outputs": [
    {
     "data": {
      "image/png": "[encoded data removed]",
      "text/plain": [
       "<Figure size 640x480 with 1 Axes>"
      ]
     },
     "metadata": {},
     "output_type": "display_data"
    }
   ],
   "source": [
    "pred = f(random_train)\n",
    "pred = pred.reshape_as(random_train)\n",
    "pred = pred.detach()\n",
    "imshow(torchvision.utils.make_grid(pred))"
   ]
  },
  {
   "cell_type": "markdown",
   "id": "d9747c4a",
   "metadata": {},
   "source": [
    "#### Random test image"
   ]
  },
  {
   "cell_type": "code",
   "execution_count": 12,
   "id": "2c820479",
   "metadata": {},
   "outputs": [
    {
     "data": {
      "image/png": "[encoded data removed]",
      "text/plain": [
       "<Figure size 640x480 with 1 Axes>"
      ]
     },
     "metadata": {},
     "output_type": "display_data"
    },
    {
     "name": "stdout",
     "output_type": "stream",
     "text": [
      "cat  \n"
     ]
    }
   ],
   "source": [
    "# get some random training images\n",
    "dataiter = iter(testloader)\n",
    "random_test, labels = next(dataiter)\n",
    "\n",
    "# show images\n",
    "imshow(torchvision.utils.make_grid(random_test))\n",
    "# print labels\n",
    "print(' '.join(f'{classes[labels[j]]:5s}' for j in range(batch_size)))"
   ]
  },
  {
   "cell_type": "code",
   "execution_count": 13,
   "id": "d8cdab87",
   "metadata": {
    "scrolled": false
   },
   "outputs": [
    {
     "data": {
      "image/png": "[encoded data removed]",
      "text/plain": [
       "<Figure size 640x480 with 1 Axes>"
      ]
     },
     "metadata": {},
     "output_type": "display_data"
    }
   ],
   "source": [
    "pred = f(random_test)\n",
    "pred = pred.reshape_as(random_test)\n",
    "pred = pred.detach()\n",
    "imshow(torchvision.utils.make_grid(pred))"
   ]
  },
  {
   "cell_type": "markdown",
   "id": "edd466c9",
   "metadata": {},
   "source": [
    "#### Random noise"
   ]
  },
  {
   "cell_type": "code",
   "execution_count": 14,
   "id": "832d1ff6",
   "metadata": {
    "scrolled": false
   },
   "outputs": [
    {
     "data": {
      "image/png": "[encoded data removed]",
      "text/plain": [
       "<Figure size 640x480 with 1 Axes>"
      ]
     },
     "metadata": {},
     "output_type": "display_data"
    }
   ],
   "source": [
    "noise = torch.normal(0, 1 , size=(1, 3, 32, 32), requires_grad=False)\n",
    "pred = f(noise)\n",
    "pred = pred.reshape_as(noise)\n",
    "pred = pred.detach()\n",
    "imshow(torchvision.utils.make_grid(pred))"
   ]
  },
  {
   "cell_type": "markdown",
   "id": "0523e9df",
   "metadata": {},
   "source": [
    "#### All zeros"
   ]
  },
  {
   "cell_type": "code",
   "execution_count": 15,
   "id": "87b831e3",
   "metadata": {},
   "outputs": [
    {
     "data": {
      "image/png": "[encoded data removed]",
      "text/plain": [
       "<Figure size 640x480 with 1 Axes>"
      ]
     },
     "metadata": {},
     "output_type": "display_data"
    }
   ],
   "source": [
    "zeros = torch.normal(0, 0 , size=(1, 3, 32, 32), requires_grad=False)\n",
    "pred = f(zeros)\n",
    "pred = pred.reshape_as(zeros)\n",
    "pred = pred.detach()\n",
    "imshow(torchvision.utils.make_grid(pred))"
   ]
  },
  {
   "cell_type": "markdown",
   "id": "9ca1b8c5",
   "metadata": {},
   "source": [
    "### (c) Training on 2 images"
   ]
  },
  {
   "cell_type": "code",
   "execution_count": 16,
   "id": "1670ab0f",
   "metadata": {},
   "outputs": [
    {
     "data": {
      "image/png": "[encoded data removed]",
      "text/plain": [
       "<Figure size 640x480 with 1 Axes>"
      ]
     },
     "metadata": {},
     "output_type": "display_data"
    },
    {
     "name": "stdout",
     "output_type": "stream",
     "text": [
      "ship \n"
     ]
    }
   ],
   "source": [
    "z2, labels = next(dataiter)\n",
    "# show images\n",
    "imshow(torchvision.utils.make_grid(z2))\n",
    "# print labels\n",
    "print(' '.join(f'{classes[labels[j]]:5s}' for j in range(batch_size)))"
   ]
  },
  {
   "cell_type": "code",
   "execution_count": 17,
   "id": "59bed6bd",
   "metadata": {},
   "outputs": [],
   "source": [
    "steps = 1000\n",
    "lr = 1e-4\n",
    "f = Net(k=1024)\n",
    "\n",
    "def train2(steps, lr):\n",
    "    losses = []\n",
    "    for i in range(steps):\n",
    "        if i % 2 == 0:\n",
    "            x = z1\n",
    "        else:\n",
    "            x = z2\n",
    "        # Generate Prediction\n",
    "        fx = f(x)\n",
    "        # Get the loss and perform backpropagation\n",
    "        loss = L(x, fx)\n",
    "        losses.append(loss)\n",
    "        loss.backward() # get gradient\n",
    "        # Let's update the weights\n",
    "        with torch.no_grad():\n",
    "            f.A.weight -= lr * f.A.weight.grad\n",
    "            f.B.weight -= lr * f.B.weight.grad\n",
    "            # Set the gradients to zero\n",
    "            f.A.weight.grad.zero_()\n",
    "            f.B.weight.grad.zero_()\n",
    "        print(f\"step {i}: Loss: {loss}\")\n",
    "    print(f\"minimal loss achieved: {min(losses)}\")"
   ]
  },
  {
   "cell_type": "code",
   "execution_count": 18,
   "id": "08f31988",
   "metadata": {},
   "outputs": [
    {
     "name": "stdout",
     "output_type": "stream",
     "text": [
      "step 0: Loss: 327.88580322265625\n",
      "step 1: Loss: 700.64794921875\n",
      "step 2: Loss: 316.836669921875\n",
      "step 3: Loss: 652.8576049804688\n",
      "step 4: Loss: 308.36370849609375\n",
      "step 5: Loss: 625.0802612304688\n",
      "step 6: Loss: 301.4964904785156\n",
      "step 7: Loss: 606.9642333984375\n",
      "step 8: Loss: 295.74029541015625\n",
      "step 9: Loss: 592.322998046875\n",
      "step 10: Loss: 290.8751525878906\n",
      "step 11: Loss: 578.8724365234375\n",
      "step 12: Loss: 286.5518493652344\n",
      "step 13: Loss: 565.206787109375\n",
      "step 14: Loss: 282.59967041015625\n",
      "step 15: Loss: 550.6947021484375\n",
      "step 16: Loss: 278.98480224609375\n",
      "step 17: Loss: 534.9141235351562\n",
      "step 18: Loss: 275.56146240234375\n",
      "step 19: Loss: 517.6426391601562\n",
      "step 20: Loss: 272.2120361328125\n",
      "step 21: Loss: 498.6922912597656\n",
      "step 22: Loss: 268.87908935546875\n",
      "step 23: Loss: 478.0023193359375\n",
      "step 24: Loss: 265.52301025390625\n",
      "step 25: Loss: 455.56219482421875\n",
      "step 26: Loss: 262.07733154296875\n",
      "step 27: Loss: 431.41168212890625\n",
      "step 28: Loss: 258.5296936035156\n",
      "step 29: Loss: 405.76983642578125\n",
      "step 30: Loss: 254.87376403808594\n",
      "step 31: Loss: 378.8576965332031\n",
      "step 32: Loss: 251.06134033203125\n",
      "step 33: Loss: 350.99676513671875\n",
      "step 34: Loss: 247.087158203125\n",
      "step 35: Loss: 322.5587158203125\n",
      "step 36: Loss: 242.93609619140625\n",
      "step 37: Loss: 293.9726867675781\n",
      "step 38: Loss: 238.6042022705078\n",
      "step 39: Loss: 265.6807861328125\n",
      "step 40: Loss: 234.08609008789062\n",
      "step 41: Loss: 238.1218719482422\n",
      "step 42: Loss: 229.37242126464844\n",
      "step 43: Loss: 211.70025634765625\n",
      "step 44: Loss: 224.46142578125\n",
      "step 45: Loss: 186.76055908203125\n",
      "step 46: Loss: 219.35093688964844\n",
      "step 47: Loss: 163.57046508789062\n",
      "step 48: Loss: 214.0438995361328\n",
      "step 49: Loss: 142.31459045410156\n",
      "step 50: Loss: 208.54429626464844\n",
      "step 51: Loss: 123.08268737792969\n",
      "step 52: Loss: 202.8596954345703\n",
      "step 53: Loss: 105.88780212402344\n",
      "step 54: Loss: 196.99981689453125\n",
      "step 55: Loss: 90.67615509033203\n",
      "step 56: Loss: 190.97752380371094\n",
      "step 57: Loss: 77.3438491821289\n",
      "step 58: Loss: 184.80691528320312\n",
      "step 59: Loss: 65.7522201538086\n",
      "step 60: Loss: 178.5053253173828\n",
      "step 61: Loss: 55.743553161621094\n",
      "step 62: Loss: 172.09185791015625\n",
      "step 63: Loss: 47.1514778137207\n",
      "step 64: Loss: 165.58836364746094\n",
      "step 65: Loss: 39.80912399291992\n",
      "step 66: Loss: 159.01678466796875\n",
      "step 67: Loss: 33.559146881103516\n",
      "step 68: Loss: 152.40110778808594\n",
      "step 69: Loss: 28.255844116210938\n",
      "step 70: Loss: 145.76629638671875\n",
      "step 71: Loss: 23.767404556274414\n",
      "step 72: Loss: 139.13754272460938\n",
      "step 73: Loss: 19.976667404174805\n",
      "step 74: Loss: 132.54066467285156\n",
      "step 75: Loss: 16.78044319152832\n",
      "step 76: Loss: 126.0013656616211\n",
      "step 77: Loss: 14.089128494262695\n",
      "step 78: Loss: 119.54437255859375\n",
      "step 79: Loss: 11.825434684753418\n",
      "step 80: Loss: 113.19332122802734\n",
      "step 81: Loss: 9.922957420349121\n",
      "step 82: Loss: 106.97029113769531\n",
      "step 83: Loss: 8.325211524963379\n",
      "step 84: Loss: 100.89632415771484\n",
      "step 85: Loss: 6.984189987182617\n",
      "step 86: Loss: 94.99032592773438\n",
      "step 87: Loss: 5.859060764312744\n",
      "step 88: Loss: 89.26852416992188\n",
      "step 89: Loss: 4.915434837341309\n",
      "step 90: Loss: 83.74527740478516\n",
      "step 91: Loss: 4.124213218688965\n",
      "step 92: Loss: 78.43235778808594\n",
      "step 93: Loss: 3.460897445678711\n",
      "step 94: Loss: 73.3391342163086\n",
      "step 95: Loss: 2.9048776626586914\n",
      "step 96: Loss: 68.47264862060547\n",
      "step 97: Loss: 2.4388275146484375\n",
      "step 98: Loss: 63.83707046508789\n",
      "step 99: Loss: 2.048197031021118\n",
      "step 100: Loss: 59.43452072143555\n",
      "step 101: Loss: 1.7207491397857666\n",
      "step 102: Loss: 55.265079498291016\n",
      "step 103: Loss: 1.446230411529541\n",
      "step 104: Loss: 51.32695388793945\n",
      "step 105: Loss: 1.2161104679107666\n",
      "step 106: Loss: 47.61666488647461\n",
      "step 107: Loss: 1.0231757164001465\n",
      "step 108: Loss: 44.12925338745117\n",
      "step 109: Loss: 0.8613846302032471\n",
      "step 110: Loss: 40.85853958129883\n",
      "step 111: Loss: 0.7256777286529541\n",
      "step 112: Loss: 37.797306060791016\n",
      "step 113: Loss: 0.6118183732032776\n",
      "step 114: Loss: 34.93754959106445\n",
      "step 115: Loss: 0.5162590742111206\n",
      "step 116: Loss: 32.270687103271484\n",
      "step 117: Loss: 0.43602922558784485\n",
      "step 118: Loss: 29.787681579589844\n",
      "step 119: Loss: 0.3686724305152893\n",
      "step 120: Loss: 27.479257583618164\n",
      "step 121: Loss: 0.31201332807540894\n",
      "step 122: Loss: 25.335979461669922\n",
      "step 123: Loss: 0.26440495252609253\n",
      "step 124: Loss: 23.348468780517578\n",
      "step 125: Loss: 0.22436116635799408\n",
      "step 126: Loss: 21.507457733154297\n",
      "step 127: Loss: 0.19064068794250488\n",
      "step 128: Loss: 19.803810119628906\n",
      "step 129: Loss: 0.16224084794521332\n",
      "step 130: Loss: 18.228717803955078\n",
      "step 131: Loss: 0.13830390572547913\n",
      "step 132: Loss: 16.77366065979004\n",
      "step 133: Loss: 0.11809547990560532\n",
      "step 134: Loss: 15.430447578430176\n",
      "step 135: Loss: 0.10103265196084976\n",
      "step 136: Loss: 14.191292762756348\n",
      "step 137: Loss: 0.08661586046218872\n",
      "step 138: Loss: 13.048810005187988\n",
      "step 139: Loss: 0.07439390569925308\n",
      "step 140: Loss: 11.995981216430664\n",
      "step 141: Loss: 0.0640515461564064\n",
      "step 142: Loss: 11.026226043701172\n",
      "step 143: Loss: 0.055261529982089996\n",
      "step 144: Loss: 10.133353233337402\n",
      "step 145: Loss: 0.04779597744345665\n",
      "step 146: Loss: 9.311551094055176\n",
      "step 147: Loss: 0.04144347086548805\n",
      "step 148: Loss: 8.555465698242188\n",
      "step 149: Loss: 0.036020323634147644\n",
      "step 150: Loss: 7.859989166259766\n",
      "step 151: Loss: 0.03139352798461914\n",
      "step 152: Loss: 7.220425605773926\n",
      "step 153: Loss: 0.02742904983460903\n",
      "step 154: Loss: 6.632402420043945\n",
      "step 155: Loss: 0.024029778316617012\n",
      "step 156: Loss: 6.091865062713623\n",
      "step 157: Loss: 0.02110857143998146\n",
      "step 158: Loss: 5.595061302185059\n",
      "step 159: Loss: 0.018592441454529762\n",
      "step 160: Loss: 5.138516426086426\n",
      "step 161: Loss: 0.01642162911593914\n",
      "step 162: Loss: 4.719027996063232\n",
      "step 163: Loss: 0.014540680684149265\n",
      "step 164: Loss: 4.333626747131348\n",
      "step 165: Loss: 0.01290850155055523\n",
      "step 166: Loss: 3.979578971862793\n",
      "step 167: Loss: 0.011488468386232853\n",
      "step 168: Loss: 3.654357671737671\n",
      "step 169: Loss: 0.010249658487737179\n",
      "step 170: Loss: 3.355639934539795\n",
      "step 171: Loss: 0.009166031144559383\n",
      "step 172: Loss: 3.081282615661621\n",
      "step 173: Loss: 0.00821552611887455\n",
      "step 174: Loss: 2.829312801361084\n",
      "step 175: Loss: 0.0073795076459646225\n",
      "step 176: Loss: 2.597914457321167\n",
      "step 177: Loss: 0.006642189808189869\n",
      "step 178: Loss: 2.385416030883789\n",
      "step 179: Loss: 0.005990123841911554\n",
      "step 180: Loss: 2.190281391143799\n",
      "step 181: Loss: 0.005411945749074221\n",
      "step 182: Loss: 2.0110950469970703\n",
      "step 183: Loss: 0.00489794509485364\n",
      "step 184: Loss: 1.846558690071106\n",
      "step 185: Loss: 0.004439824260771275\n",
      "step 186: Loss: 1.6954782009124756\n",
      "step 187: Loss: 0.004030512645840645\n",
      "step 188: Loss: 1.5567545890808105\n",
      "step 189: Loss: 0.0036639769095927477\n",
      "step 190: Loss: 1.4293785095214844\n",
      "step 191: Loss: 0.0033349506556987762\n",
      "step 192: Loss: 1.3124237060546875\n",
      "step 193: Loss: 0.0030390131287276745\n",
      "step 194: Loss: 1.2050384283065796\n",
      "step 195: Loss: 0.002772257197648287\n",
      "step 196: Loss: 1.1064403057098389\n",
      "step 197: Loss: 0.0025313773658126593\n",
      "step 198: Loss: 1.015910267829895\n",
      "step 199: Loss: 0.0023134632501751184\n",
      "step 200: Loss: 0.9327893257141113\n",
      "step 201: Loss: 0.0021159828174859285\n",
      "step 202: Loss: 0.8564708828926086\n",
      "step 203: Loss: 0.0019367544446140528\n",
      "step 204: Loss: 0.78639817237854\n",
      "step 205: Loss: 0.001773859723471105\n",
      "step 206: Loss: 0.7220602035522461\n",
      "step 207: Loss: 0.00162560457829386\n",
      "step 208: Loss: 0.6629875302314758\n",
      "step 209: Loss: 0.001490508671849966\n",
      "step 210: Loss: 0.6087494492530823\n",
      "step 211: Loss: 0.0013672763016074896\n",
      "step 212: Loss: 0.5589501857757568\n",
      "step 213: Loss: 0.001254746806807816\n",
      "step 214: Loss: 0.5132259130477905\n",
      "step 215: Loss: 0.0011518929386511445\n",
      "step 216: Loss: 0.47124356031417847\n",
      "step 217: Loss: 0.0010578109649941325\n",
      "step 218: Loss: 0.43269675970077515\n",
      "step 219: Loss: 0.0009716859785839915\n",
      "step 220: Loss: 0.39730408787727356\n",
      "step 221: Loss: 0.0008927848539315164\n",
      "step 222: Loss: 0.36480727791786194\n",
      "step 223: Loss: 0.0008204737096093595\n",
      "step 224: Loss: 0.334969699382782\n",
      "step 225: Loss: 0.0007541477680206299\n",
      "step 226: Loss: 0.3075731694698334\n",
      "step 227: Loss: 0.000693293462973088\n",
      "step 228: Loss: 0.2824183702468872\n",
      "step 229: Loss: 0.0006374387885443866\n",
      "step 230: Loss: 0.2593213617801666\n",
      "step 231: Loss: 0.0005861423560418189\n",
      "step 232: Loss: 0.23811395466327667\n",
      "step 233: Loss: 0.000539029308129102\n",
      "step 234: Loss: 0.21864154934883118\n",
      "step 235: Loss: 0.0004957331693731248\n",
      "step 236: Loss: 0.20076194405555725\n",
      "step 237: Loss: 0.0004559505614452064\n",
      "step 238: Loss: 0.18434496223926544\n",
      "step 239: Loss: 0.00041937301284633577\n",
      "step 240: Loss: 0.169270858168602\n",
      "step 241: Loss: 0.0003857449919451028\n"
     ]
    },
    {
     "name": "stdout",
     "output_type": "stream",
     "text": [
      "step 242: Loss: 0.1554296463727951\n",
      "step 243: Loss: 0.00035482182283885777\n",
      "step 244: Loss: 0.14272062480449677\n",
      "step 245: Loss: 0.0003263828402850777\n",
      "step 246: Loss: 0.13105101883411407\n",
      "step 247: Loss: 0.0003002227458637208\n",
      "step 248: Loss: 0.12033582478761673\n",
      "step 249: Loss: 0.00027616112492978573\n",
      "step 250: Loss: 0.11049695312976837\n",
      "step 251: Loss: 0.00025402678875252604\n",
      "step 252: Loss: 0.1014627143740654\n",
      "step 253: Loss: 0.00023365739616565406\n",
      "step 254: Loss: 0.093167245388031\n",
      "step 255: Loss: 0.0002149244537577033\n",
      "step 256: Loss: 0.0855502188205719\n",
      "step 257: Loss: 0.0001976849016500637\n",
      "step 258: Loss: 0.07855595648288727\n",
      "step 259: Loss: 0.00018182701023761183\n",
      "step 260: Loss: 0.07213369756937027\n",
      "step 261: Loss: 0.00016723503358662128\n",
      "step 262: Loss: 0.06623657792806625\n",
      "step 263: Loss: 0.00015380996046587825\n",
      "step 264: Loss: 0.06082165613770485\n",
      "step 265: Loss: 0.00014145617024041712\n",
      "step 266: Loss: 0.055849481374025345\n",
      "step 267: Loss: 0.00013009064423386008\n",
      "step 268: Loss: 0.05128379166126251\n",
      "step 269: Loss: 0.00011963404540438205\n",
      "step 270: Loss: 0.04709148034453392\n",
      "step 271: Loss: 0.00011001431266777217\n",
      "step 272: Loss: 0.04324183613061905\n",
      "step 273: Loss: 0.00010116605699295178\n",
      "step 274: Loss: 0.039707038551568985\n",
      "step 275: Loss: 9.302308899350464e-05\n",
      "step 276: Loss: 0.03646118938922882\n",
      "step 277: Loss: 8.553446241421625e-05\n",
      "step 278: Loss: 0.0334806852042675\n",
      "step 279: Loss: 7.86422606324777e-05\n",
      "step 280: Loss: 0.030743861570954323\n",
      "step 281: Loss: 7.230581832118332e-05\n",
      "step 282: Loss: 0.028230803087353706\n",
      "step 283: Loss: 6.647563714068383e-05\n",
      "step 284: Loss: 0.025923172011971474\n",
      "step 285: Loss: 6.111565016908571e-05\n",
      "step 286: Loss: 0.023804189637303352\n",
      "step 287: Loss: 5.618337308987975e-05\n",
      "step 288: Loss: 0.021858425810933113\n",
      "step 289: Loss: 5.1648763474076986e-05\n",
      "step 290: Loss: 0.020071713253855705\n",
      "step 291: Loss: 4.7477511543547735e-05\n",
      "step 292: Loss: 0.01843108795583248\n",
      "step 293: Loss: 4.364215419627726e-05\n",
      "step 294: Loss: 0.016924554482102394\n",
      "step 295: Loss: 4.011435521533713e-05\n",
      "step 296: Loss: 0.015541176311671734\n",
      "step 297: Loss: 3.6871322663500905e-05\n",
      "step 298: Loss: 0.014270894229412079\n",
      "step 299: Loss: 3.388823461136781e-05\n",
      "step 300: Loss: 0.013104432262480259\n",
      "step 301: Loss: 3.1146275432547554e-05\n",
      "step 302: Loss: 0.01203331258147955\n",
      "step 303: Loss: 2.862545989046339e-05\n",
      "step 304: Loss: 0.011049763299524784\n",
      "step 305: Loss: 2.6307699954486452e-05\n",
      "step 306: Loss: 0.010146606713533401\n",
      "step 307: Loss: 2.417707582935691e-05\n",
      "step 308: Loss: 0.009317274205386639\n",
      "step 309: Loss: 2.221788417955395e-05\n",
      "step 310: Loss: 0.008555716834962368\n",
      "step 311: Loss: 2.0417122868821025e-05\n",
      "step 312: Loss: 0.00785643607378006\n",
      "step 313: Loss: 1.8762271793093532e-05\n",
      "step 314: Loss: 0.007214294746518135\n",
      "step 315: Loss: 1.723987952573225e-05\n",
      "step 316: Loss: 0.006624647881835699\n",
      "step 317: Loss: 1.5841640561120585e-05\n",
      "step 318: Loss: 0.006083191838115454\n",
      "step 319: Loss: 1.4556134374288376e-05\n",
      "step 320: Loss: 0.005585992243140936\n",
      "step 321: Loss: 1.3374574336921796e-05\n",
      "step 322: Loss: 0.005129439290612936\n",
      "step 323: Loss: 1.2289238839002792e-05\n",
      "step 324: Loss: 0.0047101895324885845\n",
      "step 325: Loss: 1.1290631846350152e-05\n",
      "step 326: Loss: 0.004325216170400381\n",
      "step 327: Loss: 1.0373551958764438e-05\n",
      "step 328: Loss: 0.003971708007156849\n",
      "step 329: Loss: 9.530929673928767e-06\n",
      "step 330: Loss: 0.0036470878403633833\n",
      "step 331: Loss: 8.755879207456019e-06\n",
      "step 332: Loss: 0.0033490105997771025\n",
      "step 333: Loss: 8.044251444516703e-06\n",
      "step 334: Loss: 0.0030752921011298895\n",
      "step 335: Loss: 7.390419796138303e-06\n",
      "step 336: Loss: 0.002823940245434642\n",
      "step 337: Loss: 6.7894970925408415e-06\n",
      "step 338: Loss: 0.002593139884993434\n",
      "step 339: Loss: 6.237150500965072e-06\n",
      "step 340: Loss: 0.0023812006693333387\n",
      "step 341: Loss: 5.729769782192307e-06\n",
      "step 342: Loss: 0.002186582889407873\n",
      "step 343: Loss: 5.263722869131016e-06\n",
      "step 344: Loss: 0.002007870702072978\n",
      "step 345: Loss: 4.83527082906221e-06\n",
      "step 346: Loss: 0.0018437657272443175\n",
      "step 347: Loss: 4.442124009074178e-06\n",
      "step 348: Loss: 0.001693075057119131\n",
      "step 349: Loss: 4.080366124981083e-06\n",
      "step 350: Loss: 0.001554702641442418\n",
      "step 351: Loss: 3.7482420793821802e-06\n",
      "step 352: Loss: 0.001427631825208664\n",
      "step 353: Loss: 3.4428344406478573e-06\n",
      "step 354: Loss: 0.0013109489809721708\n",
      "step 355: Loss: 3.1628246688342188e-06\n",
      "step 356: Loss: 0.00120381114538759\n",
      "step 357: Loss: 2.9054342576273484e-06\n",
      "step 358: Loss: 0.0011054235510528088\n",
      "step 359: Loss: 2.668485421963851e-06\n",
      "step 360: Loss: 0.0010150778107345104\n",
      "step 361: Loss: 2.451112550261314e-06\n",
      "step 362: Loss: 0.0009321138495579362\n",
      "step 363: Loss: 2.2512836039823014e-06\n",
      "step 364: Loss: 0.00085593038238585\n",
      "step 365: Loss: 2.068016556222574e-06\n",
      "step 366: Loss: 0.0007859761826694012\n",
      "step 367: Loss: 1.8994512629433302e-06\n",
      "step 368: Loss: 0.0007217382080852985\n",
      "step 369: Loss: 1.744724613672588e-06\n",
      "step 370: Loss: 0.0006627531838603318\n",
      "step 371: Loss: 1.602469069439394e-06\n",
      "step 372: Loss: 0.0006085839122533798\n",
      "step 373: Loss: 1.4720556009706343e-06\n",
      "step 374: Loss: 0.0005588484345935285\n",
      "step 375: Loss: 1.3521408845917904e-06\n",
      "step 376: Loss: 0.0005131696816533804\n",
      "step 377: Loss: 1.2420860002748668e-06\n",
      "step 378: Loss: 0.00047122829710133374\n",
      "step 379: Loss: 1.1407032616261858e-06\n",
      "step 380: Loss: 0.00043271551840007305\n",
      "step 381: Loss: 1.0477057230673381e-06\n",
      "step 382: Loss: 0.00039734976598992944\n",
      "step 383: Loss: 9.624332051316742e-07\n",
      "step 384: Loss: 0.00036487303441390395\n",
      "step 385: Loss: 8.839895713208534e-07\n",
      "step 386: Loss: 0.00033505188184790313\n",
      "step 387: Loss: 8.120248935483687e-07\n",
      "step 388: Loss: 0.00030766858253628016\n",
      "step 389: Loss: 7.458449999830918e-07\n",
      "step 390: Loss: 0.0002825235715135932\n",
      "step 391: Loss: 6.850228260191216e-07\n",
      "step 392: Loss: 0.00025943282525986433\n",
      "step 393: Loss: 6.292334546742495e-07\n",
      "step 394: Loss: 0.0002382282546022907\n",
      "step 395: Loss: 5.782278549304465e-07\n",
      "step 396: Loss: 0.00021875939273741096\n",
      "step 397: Loss: 5.310517963152961e-07\n",
      "step 398: Loss: 0.0002008784795179963\n",
      "step 399: Loss: 4.878539243691193e-07\n",
      "step 400: Loss: 0.00018445984460413456\n",
      "step 401: Loss: 4.4814794364356203e-07\n",
      "step 402: Loss: 0.00016938372573349625\n",
      "step 403: Loss: 4.1160089381264697e-07\n",
      "step 404: Loss: 0.00015554130368400365\n",
      "step 405: Loss: 3.782268436225422e-07\n",
      "step 406: Loss: 0.00014282793563324958\n",
      "step 407: Loss: 3.4747407084978477e-07\n",
      "step 408: Loss: 0.00013115293404553086\n",
      "step 409: Loss: 3.193229076714488e-07\n",
      "step 410: Loss: 0.00012043327296851203\n",
      "step 411: Loss: 2.932901281837985e-07\n",
      "step 412: Loss: 0.0001105892370105721\n",
      "step 413: Loss: 2.694440865980141e-07\n",
      "step 414: Loss: 0.00010154980554943904\n",
      "step 415: Loss: 2.4759501116022875e-07\n",
      "step 416: Loss: 9.325049177277833e-05\n",
      "step 417: Loss: 2.2752413997295662e-07\n",
      "step 418: Loss: 8.562628499930725e-05\n",
      "step 419: Loss: 2.0905596898046497e-07\n",
      "step 420: Loss: 7.862808706704527e-05\n",
      "step 421: Loss: 1.921175822872101e-07\n",
      "step 422: Loss: 7.220054976642132e-05\n",
      "step 423: Loss: 1.7665649920672877e-07\n",
      "step 424: Loss: 6.629848212469369e-05\n",
      "step 425: Loss: 1.6236306521477673e-07\n",
      "step 426: Loss: 6.08779264439363e-05\n",
      "step 427: Loss: 1.4925493019291025e-07\n",
      "step 428: Loss: 5.5902353778947145e-05\n",
      "step 429: Loss: 1.3721214031647833e-07\n",
      "step 430: Loss: 5.133172089699656e-05\n",
      "step 431: Loss: 1.2615964806172997e-07\n",
      "step 432: Loss: 4.713556700153276e-05\n",
      "step 433: Loss: 1.1608423022835268e-07\n",
      "step 434: Loss: 4.328175782575272e-05\n",
      "step 435: Loss: 1.0676558304112405e-07\n",
      "step 436: Loss: 3.974303399445489e-05\n",
      "step 437: Loss: 9.821942370535908e-08\n",
      "step 438: Loss: 3.649448626674712e-05\n",
      "step 439: Loss: 9.033868053620608e-08\n",
      "step 440: Loss: 3.350940460222773e-05\n",
      "step 441: Loss: 8.322024314111331e-08\n",
      "step 442: Loss: 3.076986104133539e-05\n",
      "step 443: Loss: 7.66110872518766e-08\n",
      "step 444: Loss: 2.8253693017177284e-05\n",
      "step 445: Loss: 7.057583673031331e-08\n",
      "step 446: Loss: 2.594357829366345e-05\n",
      "step 447: Loss: 6.506156324803669e-08\n",
      "step 448: Loss: 2.3821761715225875e-05\n",
      "step 449: Loss: 5.995127594360383e-08\n",
      "step 450: Loss: 2.187398240494076e-05\n",
      "step 451: Loss: 5.530831970190775e-08\n",
      "step 452: Loss: 2.0084669813513756e-05\n",
      "step 453: Loss: 5.103007794104997e-08\n",
      "step 454: Loss: 1.8442202417645603e-05\n",
      "step 455: Loss: 4.711765910769827e-08\n",
      "step 456: Loss: 1.693348167464137e-05\n",
      "step 457: Loss: 4.350940940867076e-08\n",
      "step 458: Loss: 1.5548606825177558e-05\n",
      "step 459: Loss: 4.021745425575318e-08\n",
      "step 460: Loss: 1.4276944057201035e-05\n",
      "step 461: Loss: 3.721442354276405e-08\n",
      "step 462: Loss: 1.3108860912325326e-05\n",
      "step 463: Loss: 3.447174989901214e-08\n",
      "step 464: Loss: 1.203664123750059e-05\n",
      "step 465: Loss: 3.190750419435062e-08\n"
     ]
    },
    {
     "name": "stdout",
     "output_type": "stream",
     "text": [
      "step 466: Loss: 1.1052125046262518e-05\n",
      "step 467: Loss: 2.962218914603909e-08\n",
      "step 468: Loss: 1.0147947250516154e-05\n",
      "step 469: Loss: 2.7493687326796135e-08\n",
      "step 470: Loss: 9.317822332377546e-06\n",
      "step 471: Loss: 2.5556525784509176e-08\n",
      "step 472: Loss: 8.555300155421719e-06\n",
      "step 473: Loss: 2.3768393475620542e-08\n",
      "step 474: Loss: 7.855060175643303e-06\n",
      "step 475: Loss: 2.2159898804829936e-08\n",
      "step 476: Loss: 7.212388936750358e-06\n",
      "step 477: Loss: 2.0673804002058205e-08\n",
      "step 478: Loss: 6.622700766456546e-06\n",
      "step 479: Loss: 1.9323568523077483e-08\n",
      "step 480: Loss: 6.080318598833401e-06\n",
      "step 481: Loss: 1.805579330493856e-08\n",
      "step 482: Loss: 5.583051915891701e-06\n",
      "step 483: Loss: 1.6923054957374006e-08\n",
      "step 484: Loss: 5.126212272443809e-06\n",
      "step 485: Loss: 1.587434894645412e-08\n",
      "step 486: Loss: 4.70667919216794e-06\n",
      "step 487: Loss: 1.4915473300902704e-08\n",
      "step 488: Loss: 4.321507276472403e-06\n",
      "step 489: Loss: 1.4041192208935627e-08\n",
      "step 490: Loss: 3.967792963521788e-06\n",
      "step 491: Loss: 1.3205747606548357e-08\n",
      "step 492: Loss: 3.6432666092878208e-06\n",
      "step 493: Loss: 1.2472930244200597e-08\n",
      "step 494: Loss: 3.3452145089540863e-06\n",
      "step 495: Loss: 1.1789081710844584e-08\n",
      "step 496: Loss: 3.0713215437572217e-06\n",
      "step 497: Loss: 1.1163042046291594e-08\n",
      "step 498: Loss: 2.8200911401654594e-06\n",
      "step 499: Loss: 1.056677856325905e-08\n",
      "step 500: Loss: 2.5892429675877793e-06\n",
      "step 501: Loss: 1.0018290197422175e-08\n",
      "step 502: Loss: 2.377312284806976e-06\n",
      "step 503: Loss: 9.53961443173057e-09\n",
      "step 504: Loss: 2.182853677368257e-06\n",
      "step 505: Loss: 9.077125717738e-09\n",
      "step 506: Loss: 2.0042516553075984e-06\n",
      "step 507: Loss: 8.648796345767096e-09\n",
      "step 508: Loss: 1.8401573242954328e-06\n",
      "step 509: Loss: 8.257265982081208e-09\n",
      "step 510: Loss: 1.6896292436285876e-06\n",
      "step 511: Loss: 7.886716169025476e-09\n",
      "step 512: Loss: 1.5514407323280466e-06\n",
      "step 513: Loss: 7.546471003649913e-09\n",
      "step 514: Loss: 1.4245255215428188e-06\n",
      "step 515: Loss: 7.22378823425629e-09\n",
      "step 516: Loss: 1.3079825293971226e-06\n",
      "step 517: Loss: 6.926044182620217e-09\n",
      "step 518: Loss: 1.2009379588562297e-06\n",
      "step 519: Loss: 6.6512995111622786e-09\n",
      "step 520: Loss: 1.1027079835912446e-06\n",
      "step 521: Loss: 6.380647121773109e-09\n",
      "step 522: Loss: 1.0124625759999617e-06\n",
      "step 523: Loss: 6.133018981557825e-09\n",
      "step 524: Loss: 9.297144174524874e-07\n",
      "step 525: Loss: 5.9004103825088805e-09\n",
      "step 526: Loss: 8.537812163922354e-07\n",
      "step 527: Loss: 5.674697600710488e-09\n",
      "step 528: Loss: 7.83918721936061e-07\n",
      "step 529: Loss: 5.464320995685057e-09\n",
      "step 530: Loss: 7.197286322480068e-07\n",
      "step 531: Loss: 5.263432356628073e-09\n",
      "step 532: Loss: 6.609417368963477e-07\n",
      "step 533: Loss: 5.0766479908759266e-09\n",
      "step 534: Loss: 6.06965841143392e-07\n",
      "step 535: Loss: 4.88530327302783e-09\n",
      "step 536: Loss: 5.574665919994004e-07\n",
      "step 537: Loss: 4.7209294251615574e-09\n",
      "step 538: Loss: 5.118938020132191e-07\n",
      "step 539: Loss: 4.553989185751561e-09\n",
      "step 540: Loss: 4.700858369233174e-07\n",
      "step 541: Loss: 4.394036690058556e-09\n",
      "step 542: Loss: 4.317437287681969e-07\n",
      "step 543: Loss: 4.244768980754543e-09\n",
      "step 544: Loss: 3.96550603909418e-07\n",
      "step 545: Loss: 4.0954821756145066e-09\n",
      "step 546: Loss: 3.641771115781012e-07\n",
      "step 547: Loss: 3.955983540748775e-09\n",
      "step 548: Loss: 3.345535333210137e-07\n",
      "step 549: Loss: 3.8167859983673225e-09\n",
      "step 550: Loss: 3.0727190392099146e-07\n",
      "step 551: Loss: 3.6925837942902717e-09\n",
      "step 552: Loss: 2.8231519877408573e-07\n",
      "step 553: Loss: 3.565914896697109e-09\n",
      "step 554: Loss: 2.5940531145351997e-07\n",
      "step 555: Loss: 3.4480849286921966e-09\n",
      "step 556: Loss: 2.3836560103518423e-07\n",
      "step 557: Loss: 3.3194620385756934e-09\n",
      "step 558: Loss: 2.1904072866618662e-07\n",
      "step 559: Loss: 3.213282084857383e-09\n",
      "step 560: Loss: 2.013361211083975e-07\n",
      "step 561: Loss: 3.099040357668059e-09\n",
      "step 562: Loss: 1.8512477595322707e-07\n",
      "step 563: Loss: 3.001125792323478e-09\n",
      "step 564: Loss: 1.701278762311631e-07\n",
      "step 565: Loss: 2.9027020786998037e-09\n",
      "step 566: Loss: 1.5653625951017602e-07\n",
      "step 567: Loss: 2.8033155796691744e-09\n",
      "step 568: Loss: 1.4402969839011348e-07\n",
      "step 569: Loss: 2.7096320742714397e-09\n",
      "step 570: Loss: 1.3251207064968185e-07\n",
      "step 571: Loss: 2.617553285233498e-09\n",
      "step 572: Loss: 1.2198032095511735e-07\n",
      "step 573: Loss: 2.526536535540913e-09\n",
      "step 574: Loss: 1.1229824536940214e-07\n",
      "step 575: Loss: 2.4476358717606672e-09\n",
      "step 576: Loss: 1.0344851375521102e-07\n",
      "step 577: Loss: 2.364405782273593e-09\n",
      "step 578: Loss: 9.532579525739493e-08\n",
      "step 579: Loss: 2.286483002933437e-09\n",
      "step 580: Loss: 8.790492245225323e-08\n",
      "step 581: Loss: 2.2150505873952397e-09\n",
      "step 582: Loss: 8.10585021326915e-08\n",
      "step 583: Loss: 2.137052534934014e-09\n",
      "step 584: Loss: 7.482163510985629e-08\n",
      "step 585: Loss: 2.064820092684272e-09\n",
      "step 586: Loss: 6.911259475828047e-08\n",
      "step 587: Loss: 1.9961654551536867e-09\n",
      "step 588: Loss: 6.389757345459657e-08\n",
      "step 589: Loss: 1.9336001688685656e-09\n",
      "step 590: Loss: 5.914560574638017e-08\n",
      "step 591: Loss: 1.8720740513344936e-09\n",
      "step 592: Loss: 5.4737203214472174e-08\n",
      "step 593: Loss: 1.8095361875580807e-09\n",
      "step 594: Loss: 5.073203013239436e-08\n",
      "step 595: Loss: 1.746266020674625e-09\n",
      "step 596: Loss: 4.7048587248355034e-08\n",
      "step 597: Loss: 1.6920348455684575e-09\n",
      "step 598: Loss: 4.366626882301716e-08\n",
      "step 599: Loss: 1.634821167328937e-09\n",
      "step 600: Loss: 4.0610181883948826e-08\n",
      "step 601: Loss: 1.5826889798731258e-09\n",
      "step 602: Loss: 3.7780658601604955e-08\n",
      "step 603: Loss: 1.5328107672019087e-09\n",
      "step 604: Loss: 3.5207385451485607e-08\n",
      "step 605: Loss: 1.4853187568775184e-09\n",
      "step 606: Loss: 3.283547655996699e-08\n",
      "step 607: Loss: 1.4396807079819496e-09\n",
      "step 608: Loss: 3.06704137642555e-08\n",
      "step 609: Loss: 1.3902715645386365e-09\n",
      "step 610: Loss: 2.8698847742703038e-08\n",
      "step 611: Loss: 1.3512668761705982e-09\n",
      "step 612: Loss: 2.6884622528200453e-08\n",
      "step 613: Loss: 1.308384622866754e-09\n",
      "step 614: Loss: 2.520530451022296e-08\n",
      "step 615: Loss: 1.2706969920728284e-09\n",
      "step 616: Loss: 2.3673813132063515e-08\n",
      "step 617: Loss: 1.2337010302232443e-09\n",
      "step 618: Loss: 2.2276656963526875e-08\n",
      "step 619: Loss: 1.1933998234070486e-09\n",
      "step 620: Loss: 2.098066431699408e-08\n",
      "step 621: Loss: 1.156175932770509e-09\n",
      "step 622: Loss: 1.9787272265148204e-08\n",
      "step 623: Loss: 1.1212651918057759e-09\n",
      "step 624: Loss: 1.870595234265693e-08\n",
      "step 625: Loss: 1.091030710220764e-09\n",
      "step 626: Loss: 1.769720547883935e-08\n",
      "step 627: Loss: 1.0585522458583796e-09\n",
      "step 628: Loss: 1.6764696297855153e-08\n",
      "step 629: Loss: 1.0289905594262905e-09\n",
      "step 630: Loss: 1.5917935414222484e-08\n",
      "step 631: Loss: 1.001406735312571e-09\n",
      "step 632: Loss: 1.51274353044073e-08\n",
      "step 633: Loss: 9.748906126816337e-10\n",
      "step 634: Loss: 1.4382494306630633e-08\n",
      "step 635: Loss: 9.48544354173464e-10\n",
      "step 636: Loss: 1.3701424883549862e-08\n",
      "step 637: Loss: 9.215090912562118e-10\n",
      "step 638: Loss: 1.3069886506400508e-08\n",
      "step 639: Loss: 8.981169141719647e-10\n",
      "step 640: Loss: 1.2497723744786526e-08\n",
      "step 641: Loss: 8.720829058894708e-10\n",
      "step 642: Loss: 1.1949754075146757e-08\n",
      "step 643: Loss: 8.478653334975661e-10\n",
      "step 644: Loss: 1.1443885838957613e-08\n",
      "step 645: Loss: 8.259004591337771e-10\n",
      "step 646: Loss: 1.0975965025750156e-08\n",
      "step 647: Loss: 8.033388954054033e-10\n",
      "step 648: Loss: 1.0527610783128694e-08\n",
      "step 649: Loss: 7.817927416553516e-10\n",
      "step 650: Loss: 1.0103111236503537e-08\n",
      "step 651: Loss: 7.627348197480899e-10\n",
      "step 652: Loss: 9.716238480450556e-09\n",
      "step 653: Loss: 7.438095694922708e-10\n",
      "step 654: Loss: 9.345063389787356e-09\n",
      "step 655: Loss: 7.278335156790661e-10\n",
      "step 656: Loss: 9.007439238928328e-09\n",
      "step 657: Loss: 7.097888943263797e-10\n",
      "step 658: Loss: 8.68367333595188e-09\n",
      "step 659: Loss: 6.929546936262909e-10\n",
      "step 660: Loss: 8.377000426662562e-09\n",
      "step 661: Loss: 6.764513393875404e-10\n",
      "step 662: Loss: 8.088358427471576e-09\n",
      "step 663: Loss: 6.597372093075649e-10\n",
      "step 664: Loss: 7.811876479024704e-09\n",
      "step 665: Loss: 6.453075296342092e-10\n",
      "step 666: Loss: 7.550577940662606e-09\n",
      "step 667: Loss: 6.322387613444391e-10\n",
      "step 668: Loss: 7.316441674731777e-09\n",
      "step 669: Loss: 6.185546519432705e-10\n",
      "step 670: Loss: 7.0736776436319815e-09\n",
      "step 671: Loss: 6.036963706712584e-10\n",
      "step 672: Loss: 6.850993994333976e-09\n",
      "step 673: Loss: 5.909984168717131e-10\n",
      "step 674: Loss: 6.642418171054487e-09\n",
      "step 675: Loss: 5.795548485565405e-10\n",
      "step 676: Loss: 6.430780796762292e-09\n",
      "step 677: Loss: 5.678383319107638e-10\n",
      "step 678: Loss: 6.239929906115549e-09\n",
      "step 679: Loss: 5.556227700154182e-10\n",
      "step 680: Loss: 6.060871360347164e-09\n",
      "step 681: Loss: 5.441612715983979e-10\n",
      "step 682: Loss: 5.884166043301775e-09\n",
      "step 683: Loss: 5.323366192300227e-10\n",
      "step 684: Loss: 5.715433015751614e-09\n",
      "step 685: Loss: 5.215494147670086e-10\n"
     ]
    },
    {
     "name": "stdout",
     "output_type": "stream",
     "text": [
      "step 686: Loss: 5.556566762265902e-09\n",
      "step 687: Loss: 5.113838796866332e-10\n",
      "step 688: Loss: 5.403820058091924e-09\n",
      "step 689: Loss: 5.009138104306032e-10\n",
      "step 690: Loss: 5.260434310372375e-09\n",
      "step 691: Loss: 4.904216477363832e-10\n",
      "step 692: Loss: 5.1260515832041165e-09\n",
      "step 693: Loss: 4.799644570674388e-10\n",
      "step 694: Loss: 4.988945701001057e-09\n",
      "step 695: Loss: 4.706138811982896e-10\n",
      "step 696: Loss: 4.860537305972912e-09\n",
      "step 697: Loss: 4.610543336003303e-10\n",
      "step 698: Loss: 4.739659331676194e-09\n",
      "step 699: Loss: 4.5348474975170916e-10\n",
      "step 700: Loss: 4.625064331520434e-09\n",
      "step 701: Loss: 4.4431339163431005e-10\n",
      "step 702: Loss: 4.508954543069876e-09\n",
      "step 703: Loss: 4.364367756082288e-10\n",
      "step 704: Loss: 4.3998342746931485e-09\n",
      "step 705: Loss: 4.2864023441779864e-10\n",
      "step 706: Loss: 4.297135980380062e-09\n",
      "step 707: Loss: 4.2113348919237126e-10\n",
      "step 708: Loss: 4.199149028494276e-09\n",
      "step 709: Loss: 4.1312925302960934e-10\n",
      "step 710: Loss: 4.1059671218590665e-09\n",
      "step 711: Loss: 4.0468442485952494e-10\n",
      "step 712: Loss: 4.0111944876741745e-09\n",
      "step 713: Loss: 3.9738526358412685e-10\n",
      "step 714: Loss: 3.920797020384725e-09\n",
      "step 715: Loss: 3.8968725468713217e-10\n",
      "step 716: Loss: 3.8338399122039846e-09\n",
      "step 717: Loss: 3.832988371144097e-10\n",
      "step 718: Loss: 3.751178034860914e-09\n",
      "step 719: Loss: 3.7739347757970165e-10\n",
      "step 720: Loss: 3.6712408668648777e-09\n",
      "step 721: Loss: 3.700315609478366e-10\n",
      "step 722: Loss: 3.5973415357659633e-09\n",
      "step 723: Loss: 3.639488155293691e-10\n",
      "step 724: Loss: 3.523079827871811e-09\n",
      "step 725: Loss: 3.5827737998594955e-10\n",
      "step 726: Loss: 3.4489147093808015e-09\n",
      "step 727: Loss: 3.520150559932489e-10\n",
      "step 728: Loss: 3.3775762187104874e-09\n",
      "step 729: Loss: 3.459126873828211e-10\n",
      "step 730: Loss: 3.309648333171822e-09\n",
      "step 731: Loss: 3.406254722726487e-10\n",
      "step 732: Loss: 3.242547563786502e-09\n",
      "step 733: Loss: 3.359446609785266e-10\n",
      "step 734: Loss: 3.1786715481985084e-09\n",
      "step 735: Loss: 3.307951967901346e-10\n",
      "step 736: Loss: 3.115644631179748e-09\n",
      "step 737: Loss: 3.257223102348661e-10\n",
      "step 738: Loss: 3.05509928466563e-09\n",
      "step 739: Loss: 3.2077118738982335e-10\n",
      "step 740: Loss: 2.9967237580308392e-09\n",
      "step 741: Loss: 3.151584826444065e-10\n",
      "step 742: Loss: 2.938932652796211e-09\n",
      "step 743: Loss: 3.095491363236391e-10\n",
      "step 744: Loss: 2.878831617536548e-09\n",
      "step 745: Loss: 3.038793383591809e-10\n",
      "step 746: Loss: 2.825199185707561e-09\n",
      "step 747: Loss: 2.998048198588066e-10\n",
      "step 748: Loss: 2.773005380873883e-09\n",
      "step 749: Loss: 2.95376417769333e-10\n",
      "step 750: Loss: 2.7206068509144643e-09\n",
      "step 751: Loss: 2.9115179711602934e-10\n",
      "step 752: Loss: 2.6755866411320994e-09\n",
      "step 753: Loss: 2.871828885808725e-10\n",
      "step 754: Loss: 2.6238706762882202e-09\n",
      "step 755: Loss: 2.829842749019207e-10\n",
      "step 756: Loss: 2.5793627234094174e-09\n",
      "step 757: Loss: 2.7932511859063425e-10\n",
      "step 758: Loss: 2.535659682223468e-09\n",
      "step 759: Loss: 2.756295192085645e-10\n",
      "step 760: Loss: 2.4893842542894618e-09\n",
      "step 761: Loss: 2.725680792181606e-10\n",
      "step 762: Loss: 2.4458082226175293e-09\n",
      "step 763: Loss: 2.6944887987490063e-10\n",
      "step 764: Loss: 2.4018502742251258e-09\n",
      "step 765: Loss: 2.6562130273077855e-10\n",
      "step 766: Loss: 2.3579473928947436e-09\n",
      "step 767: Loss: 2.6083363247053626e-10\n",
      "step 768: Loss: 2.3208128752116863e-09\n",
      "step 769: Loss: 2.578496305361e-10\n",
      "step 770: Loss: 2.2838779756284566e-09\n",
      "step 771: Loss: 2.5428675831662417e-10\n",
      "step 772: Loss: 2.2455668435839016e-09\n",
      "step 773: Loss: 2.503849350077303e-10\n",
      "step 774: Loss: 2.2076371841706077e-09\n",
      "step 775: Loss: 2.471831628270138e-10\n",
      "step 776: Loss: 2.170512214405562e-09\n",
      "step 777: Loss: 2.4373811302602633e-10\n",
      "step 778: Loss: 2.1345250011961525e-09\n",
      "step 779: Loss: 2.4058380287961256e-10\n",
      "step 780: Loss: 2.098590634602715e-09\n",
      "step 781: Loss: 2.3703872198410636e-10\n",
      "step 782: Loss: 2.0650048337955695e-09\n",
      "step 783: Loss: 2.3372911939212315e-10\n",
      "step 784: Loss: 2.0304942172089113e-09\n",
      "step 785: Loss: 2.3082939726304375e-10\n",
      "step 786: Loss: 2.0007162593316252e-09\n",
      "step 787: Loss: 2.2742069338832493e-10\n",
      "step 788: Loss: 1.9673327411595665e-09\n",
      "step 789: Loss: 2.2497677332200539e-10\n",
      "step 790: Loss: 1.9367392134483907e-09\n",
      "step 791: Loss: 2.2186898152032342e-10\n",
      "step 792: Loss: 1.9098900239100658e-09\n",
      "step 793: Loss: 2.1978809050526849e-10\n",
      "step 794: Loss: 1.8807675417065184e-09\n",
      "step 795: Loss: 2.1648684234154558e-10\n",
      "step 796: Loss: 1.852985209715996e-09\n",
      "step 797: Loss: 2.1362611679620613e-10\n",
      "step 798: Loss: 1.8246666400045797e-09\n",
      "step 799: Loss: 2.109122737570246e-10\n",
      "step 800: Loss: 1.798781013029327e-09\n",
      "step 801: Loss: 2.0829098168473337e-10\n",
      "step 802: Loss: 1.7714745226271589e-09\n",
      "step 803: Loss: 2.056037146092038e-10\n",
      "step 804: Loss: 1.7464593105032122e-09\n",
      "step 805: Loss: 2.0349133489361293e-10\n",
      "step 806: Loss: 1.7232218985085979e-09\n",
      "step 807: Loss: 2.0076050544215462e-10\n",
      "step 808: Loss: 1.69969127661318e-09\n",
      "step 809: Loss: 1.9940253614958436e-10\n",
      "step 810: Loss: 1.6753238796241021e-09\n",
      "step 811: Loss: 1.9698388753486284e-10\n",
      "step 812: Loss: 1.6523672430324154e-09\n",
      "step 813: Loss: 1.9384963079183137e-10\n",
      "step 814: Loss: 1.6302768024445413e-09\n",
      "step 815: Loss: 1.922346587468482e-10\n",
      "step 816: Loss: 1.6067377428541363e-09\n",
      "step 817: Loss: 1.8958976055749588e-10\n",
      "step 818: Loss: 1.5840417866286316e-09\n",
      "step 819: Loss: 1.8788744171605032e-10\n",
      "step 820: Loss: 1.5624775917544298e-09\n",
      "step 821: Loss: 1.8560018799629319e-10\n",
      "step 822: Loss: 1.5413406107001038e-09\n",
      "step 823: Loss: 1.8320854555664567e-10\n",
      "step 824: Loss: 1.5226305771776083e-09\n",
      "step 825: Loss: 1.8075278773732606e-10\n",
      "step 826: Loss: 1.5031976774437794e-09\n",
      "step 827: Loss: 1.7858547973759187e-10\n",
      "step 828: Loss: 1.4846918139355125e-09\n",
      "step 829: Loss: 1.7684582964694329e-10\n",
      "step 830: Loss: 1.4672990600317348e-09\n",
      "step 831: Loss: 1.7509892147327122e-10\n",
      "step 832: Loss: 1.4485255217522308e-09\n",
      "step 833: Loss: 1.7245230243823073e-10\n",
      "step 834: Loss: 1.4301522188731042e-09\n",
      "step 835: Loss: 1.705292990150653e-10\n",
      "step 836: Loss: 1.4122194524901488e-09\n",
      "step 837: Loss: 1.683495565174553e-10\n",
      "step 838: Loss: 1.3949769117616029e-09\n",
      "step 839: Loss: 1.6671067304407927e-10\n",
      "step 840: Loss: 1.377934322199792e-09\n",
      "step 841: Loss: 1.6535649238758054e-10\n",
      "step 842: Loss: 1.361845414216134e-09\n",
      "step 843: Loss: 1.6350860942981882e-10\n",
      "step 844: Loss: 1.3439531709735775e-09\n",
      "step 845: Loss: 1.6124612756129864e-10\n",
      "step 846: Loss: 1.3288741218531186e-09\n",
      "step 847: Loss: 1.597880439074828e-10\n",
      "step 848: Loss: 1.3128335085710319e-09\n",
      "step 849: Loss: 1.5788002849514982e-10\n",
      "step 850: Loss: 1.2955670980474565e-09\n",
      "step 851: Loss: 1.5659806784640296e-10\n",
      "step 852: Loss: 1.2813927696697647e-09\n",
      "step 853: Loss: 1.5456227964172342e-10\n",
      "step 854: Loss: 1.266821203493862e-09\n",
      "step 855: Loss: 1.5318243895556805e-10\n",
      "step 856: Loss: 1.2525160908438693e-09\n",
      "step 857: Loss: 1.5127209207488335e-10\n",
      "step 858: Loss: 1.2380616531970645e-09\n",
      "step 859: Loss: 1.5010698239947828e-10\n",
      "step 860: Loss: 1.2237423296923566e-09\n",
      "step 861: Loss: 1.4889119104299908e-10\n",
      "step 862: Loss: 1.208742772540461e-09\n",
      "step 863: Loss: 1.4729602260121766e-10\n",
      "step 864: Loss: 1.1956509116117786e-09\n",
      "step 865: Loss: 1.4627594968619206e-10\n",
      "step 866: Loss: 1.1833711788256096e-09\n",
      "step 867: Loss: 1.4460918573711012e-10\n",
      "step 868: Loss: 1.1708878311367243e-09\n",
      "step 869: Loss: 1.4321072105971666e-10\n",
      "step 870: Loss: 1.1570890912082632e-09\n",
      "step 871: Loss: 1.4143863857896122e-10\n",
      "step 872: Loss: 1.144060624014287e-09\n",
      "step 873: Loss: 1.4006437676350458e-10\n",
      "step 874: Loss: 1.131678861732155e-09\n",
      "step 875: Loss: 1.3860385061903457e-10\n",
      "step 876: Loss: 1.1195351312665025e-09\n",
      "step 877: Loss: 1.381077058271174e-10\n",
      "step 878: Loss: 1.1067052829716317e-09\n",
      "step 879: Loss: 1.3579443125522062e-10\n",
      "step 880: Loss: 1.0951392015456918e-09\n",
      "step 881: Loss: 1.3427828293721689e-10\n",
      "step 882: Loss: 1.0838687725112095e-09\n",
      "step 883: Loss: 1.332560867206567e-10\n",
      "step 884: Loss: 1.0708081088495192e-09\n",
      "step 885: Loss: 1.3166320811386356e-10\n",
      "step 886: Loss: 1.0601662880915796e-09\n",
      "step 887: Loss: 1.3049752944915838e-10\n",
      "step 888: Loss: 1.0489218382758736e-09\n",
      "step 889: Loss: 1.2899152579404216e-10\n",
      "step 890: Loss: 1.0384839654875577e-09\n",
      "step 891: Loss: 1.2792759906954387e-10\n",
      "step 892: Loss: 1.0277464435048955e-09\n",
      "step 893: Loss: 1.2654555181512706e-10\n",
      "step 894: Loss: 1.0183758281101518e-09\n",
      "step 895: Loss: 1.2546420846692996e-10\n",
      "step 896: Loss: 1.00858466023368e-09\n",
      "step 897: Loss: 1.2468992505176857e-10\n",
      "step 898: Loss: 9.97817384273958e-10\n",
      "step 899: Loss: 1.2358421230818095e-10\n"
     ]
    },
    {
     "name": "stdout",
     "output_type": "stream",
     "text": [
      "step 900: Loss: 9.87902759597148e-10\n",
      "step 901: Loss: 1.2265369275787918e-10\n",
      "step 902: Loss: 9.774522302663513e-10\n",
      "step 903: Loss: 1.2144107941480797e-10\n",
      "step 904: Loss: 9.688080337966198e-10\n",
      "step 905: Loss: 1.2083745115631928e-10\n",
      "step 906: Loss: 9.583053239836659e-10\n",
      "step 907: Loss: 1.1957614065583044e-10\n",
      "step 908: Loss: 9.502268971672834e-10\n",
      "step 909: Loss: 1.1928096010915823e-10\n",
      "step 910: Loss: 9.411618151489165e-10\n",
      "step 911: Loss: 1.1790395049171565e-10\n",
      "step 912: Loss: 9.309939486001895e-10\n",
      "step 913: Loss: 1.1743810091058293e-10\n",
      "step 914: Loss: 9.214697338499889e-10\n",
      "step 915: Loss: 1.1575912450823012e-10\n",
      "step 916: Loss: 9.128005573622033e-10\n",
      "step 917: Loss: 1.1513515141281516e-10\n",
      "step 918: Loss: 9.040595494447246e-10\n",
      "step 919: Loss: 1.1353117751466968e-10\n",
      "step 920: Loss: 8.957798947051288e-10\n",
      "step 921: Loss: 1.1309374270407346e-10\n",
      "step 922: Loss: 8.875238877159575e-10\n",
      "step 923: Loss: 1.1224709356438822e-10\n",
      "step 924: Loss: 8.785547844780695e-10\n",
      "step 925: Loss: 1.1089622969917556e-10\n",
      "step 926: Loss: 8.705833276501096e-10\n",
      "step 927: Loss: 1.1082874895596007e-10\n",
      "step 928: Loss: 8.608989632286068e-10\n",
      "step 929: Loss: 1.0949127715598195e-10\n",
      "step 930: Loss: 8.534465911758105e-10\n",
      "step 931: Loss: 1.0860879556817693e-10\n",
      "step 932: Loss: 8.459807299132649e-10\n",
      "step 933: Loss: 1.0766845748300113e-10\n",
      "step 934: Loss: 8.377037952200794e-10\n",
      "step 935: Loss: 1.0687694479427634e-10\n",
      "step 936: Loss: 8.299750331453026e-10\n",
      "step 937: Loss: 1.0530438326883385e-10\n",
      "step 938: Loss: 8.219708247381163e-10\n",
      "step 939: Loss: 1.0504135755651234e-10\n",
      "step 940: Loss: 8.149662611423025e-10\n",
      "step 941: Loss: 1.0332370375953914e-10\n",
      "step 942: Loss: 8.071616153237926e-10\n",
      "step 943: Loss: 1.0308844750062107e-10\n",
      "step 944: Loss: 7.997966733341855e-10\n",
      "step 945: Loss: 1.0178333176291687e-10\n",
      "step 946: Loss: 7.925577416578733e-10\n",
      "step 947: Loss: 1.0072701006613727e-10\n",
      "step 948: Loss: 7.853360184384428e-10\n",
      "step 949: Loss: 1.0033505970508116e-10\n",
      "step 950: Loss: 7.786924993702371e-10\n",
      "step 951: Loss: 9.909745246616808e-11\n",
      "step 952: Loss: 7.713554239785481e-10\n",
      "step 953: Loss: 9.850506521580371e-11\n",
      "step 954: Loss: 7.645392652300131e-10\n",
      "step 955: Loss: 9.799422384659806e-11\n",
      "step 956: Loss: 7.569119220285359e-10\n",
      "step 957: Loss: 9.727799121783676e-11\n",
      "step 958: Loss: 7.506116839195442e-10\n",
      "step 959: Loss: 9.636357684028596e-11\n",
      "step 960: Loss: 7.441051108614261e-10\n",
      "step 961: Loss: 9.600853445590474e-11\n",
      "step 962: Loss: 7.376331212505249e-10\n",
      "step 963: Loss: 9.480682211515656e-11\n",
      "step 964: Loss: 7.306243943183688e-10\n",
      "step 965: Loss: 9.42563527228657e-11\n",
      "step 966: Loss: 7.241833244187035e-10\n",
      "step 967: Loss: 9.335840434054887e-11\n",
      "step 968: Loss: 7.180255279237713e-10\n",
      "step 969: Loss: 9.303233183821646e-11\n",
      "step 970: Loss: 7.114914768457936e-10\n",
      "step 971: Loss: 9.24463422480315e-11\n",
      "step 972: Loss: 7.054787309890287e-10\n",
      "step 973: Loss: 9.203812018077073e-11\n",
      "step 974: Loss: 6.988414846809121e-10\n",
      "step 975: Loss: 9.142375051451879e-11\n",
      "step 976: Loss: 6.949807951350806e-10\n",
      "step 977: Loss: 9.070013490264373e-11\n",
      "step 978: Loss: 6.883335568197424e-10\n",
      "step 979: Loss: 8.991090511001332e-11\n",
      "step 980: Loss: 6.830466747764774e-10\n",
      "step 981: Loss: 8.92292698062569e-11\n",
      "step 982: Loss: 6.773600569331961e-10\n",
      "step 983: Loss: 8.858722783111617e-11\n",
      "step 984: Loss: 6.717100209385762e-10\n",
      "step 985: Loss: 8.826587377663841e-11\n",
      "step 986: Loss: 6.660704765515391e-10\n",
      "step 987: Loss: 8.751873531442911e-11\n",
      "step 988: Loss: 6.605767599587864e-10\n",
      "step 989: Loss: 8.676635104842845e-11\n",
      "step 990: Loss: 6.551614806227235e-10\n",
      "step 991: Loss: 8.587763139500382e-11\n",
      "step 992: Loss: 6.500540661313892e-10\n",
      "step 993: Loss: 8.575751220263328e-11\n",
      "step 994: Loss: 6.447729572478522e-10\n",
      "step 995: Loss: 8.485066815833164e-11\n",
      "step 996: Loss: 6.389547779761529e-10\n",
      "step 997: Loss: 8.451319505331512e-11\n",
      "step 998: Loss: 6.327757207102991e-10\n",
      "step 999: Loss: 8.342503771130438e-11\n",
      "minimal loss achieved: 8.342503771130438e-11\n"
     ]
    }
   ],
   "source": [
    "train2(steps, lr)"
   ]
  },
  {
   "cell_type": "code",
   "execution_count": 19,
   "id": "7af565c2",
   "metadata": {},
   "outputs": [
    {
     "name": "stderr",
     "output_type": "stream",
     "text": [
      "Clipping input data to the valid range for imshow with RGB data ([0..1] for floats or [0..255] for integers).\n"
     ]
    },
    {
     "data": {
      "image/png": "[encoded data removed]",
      "text/plain": [
       "<Figure size 640x480 with 1 Axes>"
      ]
     },
     "metadata": {},
     "output_type": "display_data"
    }
   ],
   "source": [
    "pred = f(z1)\n",
    "pred = pred.reshape_as(z1)\n",
    "pred = pred.detach()\n",
    "imshow(torchvision.utils.make_grid(pred))"
   ]
  },
  {
   "cell_type": "code",
   "execution_count": 20,
   "id": "2cf8faf7",
   "metadata": {},
   "outputs": [
    {
     "name": "stderr",
     "output_type": "stream",
     "text": [
      "Clipping input data to the valid range for imshow with RGB data ([0..1] for floats or [0..255] for integers).\n"
     ]
    },
    {
     "data": {
      "image/png": "[encoded data removed]",
      "text/plain": [
       "<Figure size 640x480 with 1 Axes>"
      ]
     },
     "metadata": {},
     "output_type": "display_data"
    }
   ],
   "source": [
    "pred = f(z2)\n",
    "pred = pred.reshape_as(z2)\n",
    "pred = pred.detach()\n",
    "imshow(torchvision.utils.make_grid(pred))"
   ]
  },
  {
   "cell_type": "code",
   "execution_count": 21,
   "id": "cb4b236c",
   "metadata": {},
   "outputs": [
    {
     "data": {
      "image/png": "[encoded data removed]",
      "text/plain": [
       "<Figure size 640x480 with 1 Axes>"
      ]
     },
     "metadata": {},
     "output_type": "display_data"
    }
   ],
   "source": [
    "pred = f(random_train)\n",
    "pred = pred.reshape_as(random_train)\n",
    "pred = pred.detach()\n",
    "imshow(torchvision.utils.make_grid(pred))"
   ]
  },
  {
   "cell_type": "code",
   "execution_count": 22,
   "id": "51d9f3fd",
   "metadata": {},
   "outputs": [
    {
     "data": {
      "image/png": "[encoded data removed]",
      "text/plain": [
       "<Figure size 640x480 with 1 Axes>"
      ]
     },
     "metadata": {},
     "output_type": "display_data"
    }
   ],
   "source": [
    "pred = f(random_test)\n",
    "pred = pred.reshape_as(random_train)\n",
    "pred = pred.detach()\n",
    "imshow(torchvision.utils.make_grid(pred))"
   ]
  },
  {
   "cell_type": "code",
   "execution_count": 23,
   "id": "50d9cb17",
   "metadata": {},
   "outputs": [
    {
     "data": {
      "image/png": "[encoded data removed]",
      "text/plain": [
       "<Figure size 640x480 with 1 Axes>"
      ]
     },
     "metadata": {},
     "output_type": "display_data"
    }
   ],
   "source": [
    "pred = f(noise)\n",
    "pred = pred.reshape_as(noise)\n",
    "pred = pred.detach()\n",
    "imshow(torchvision.utils.make_grid(pred))"
   ]
  },
  {
   "cell_type": "code",
   "execution_count": 24,
   "id": "8320d60b",
   "metadata": {},
   "outputs": [
    {
     "data": {
      "image/png": "[encoded data removed]",
      "text/plain": [
       "<Figure size 640x480 with 1 Axes>"
      ]
     },
     "metadata": {},
     "output_type": "display_data"
    }
   ],
   "source": [
    "pred = f(zeros)\n",
    "pred = pred.reshape_as(zeros)\n",
    "pred = pred.detach()\n",
    "imshow(torchvision.utils.make_grid(pred))"
   ]
  },
  {
   "cell_type": "markdown",
   "id": "6c766bb4",
   "metadata": {},
   "source": [
    "### (d) $f(x), f^2(x), f^{20}(x)$ "
   ]
  },
  {
   "cell_type": "code",
   "execution_count": 25,
   "id": "4cce3292",
   "metadata": {},
   "outputs": [],
   "source": [
    "def fn(x ,n, f):\n",
    "    for i in range(n):\n",
    "        x = f(x)\n",
    "    return x"
   ]
  },
  {
   "cell_type": "code",
   "execution_count": 26,
   "id": "859d234c",
   "metadata": {},
   "outputs": [
    {
     "data": {
      "image/png": "[encoded data removed]",
      "text/plain": [
       "<Figure size 640x480 with 1 Axes>"
      ]
     },
     "metadata": {},
     "output_type": "display_data"
    }
   ],
   "source": [
    "pred = fn(random_test, 1, f)\n",
    "pred = pred.reshape_as(zeros)\n",
    "pred = pred.detach()\n",
    "imshow(torchvision.utils.make_grid(pred))"
   ]
  },
  {
   "cell_type": "code",
   "execution_count": 27,
   "id": "e647ebcd",
   "metadata": {},
   "outputs": [
    {
     "data": {
      "image/png": "[encoded data removed]",
      "text/plain": [
       "<Figure size 640x480 with 1 Axes>"
      ]
     },
     "metadata": {},
     "output_type": "display_data"
    }
   ],
   "source": [
    "pred = fn(random_test, 2, f)\n",
    "pred = pred.reshape_as(zeros)\n",
    "pred = pred.detach()\n",
    "imshow(torchvision.utils.make_grid(pred))"
   ]
  },
  {
   "cell_type": "code",
   "execution_count": 28,
   "id": "3a3f0dfd",
   "metadata": {},
   "outputs": [
    {
     "data": {
      "image/png": "[encoded data removed]",
      "text/plain": [
       "<Figure size 640x480 with 1 Axes>"
      ]
     },
     "metadata": {},
     "output_type": "display_data"
    }
   ],
   "source": [
    "pred = fn(random_test, 20, f)\n",
    "pred = pred.reshape_as(zeros)\n",
    "pred = pred.detach()\n",
    "imshow(torchvision.utils.make_grid(pred))"
   ]
  },
  {
   "cell_type": "markdown",
   "id": "a0e2723a",
   "metadata": {},
   "source": [
    "They become more close to the $z_1$ as $n$ increases (but why not close to $z_2$?). Honestly, I don't understand why this happens theoretically but want to understand it."
   ]
  },
  {
   "cell_type": "markdown",
   "id": "92c13fb3",
   "metadata": {},
   "source": [
    "### (e)"
   ]
  },
  {
   "cell_type": "code",
   "execution_count": 29,
   "id": "b5a846f7",
   "metadata": {},
   "outputs": [],
   "source": [
    "def add_noise(x):\n",
    "    return x + torch.normal(0, 1 , size=(1, 3, 32, 32), requires_grad=False)"
   ]
  },
  {
   "cell_type": "code",
   "execution_count": 30,
   "id": "042445c7",
   "metadata": {},
   "outputs": [
    {
     "name": "stderr",
     "output_type": "stream",
     "text": [
      "Clipping input data to the valid range for imshow with RGB data ([0..1] for floats or [0..255] for integers).\n"
     ]
    },
    {
     "data": {
      "image/png": "[encoded data removed]",
      "text/plain": [
       "<Figure size 640x480 with 1 Axes>"
      ]
     },
     "metadata": {},
     "output_type": "display_data"
    }
   ],
   "source": [
    "pred = fn(add_noise(z1), 1, f)\n",
    "pred = pred.reshape_as(z1)\n",
    "pred = pred.detach()\n",
    "imshow(torchvision.utils.make_grid(pred))"
   ]
  },
  {
   "cell_type": "code",
   "execution_count": 31,
   "id": "8c314dee",
   "metadata": {},
   "outputs": [
    {
     "name": "stderr",
     "output_type": "stream",
     "text": [
      "Clipping input data to the valid range for imshow with RGB data ([0..1] for floats or [0..255] for integers).\n"
     ]
    },
    {
     "data": {
      "image/png": "[encoded data removed]",
      "text/plain": [
       "<Figure size 640x480 with 1 Axes>"
      ]
     },
     "metadata": {},
     "output_type": "display_data"
    }
   ],
   "source": [
    "pred = fn(add_noise(z2), 1, f)\n",
    "pred = pred.reshape_as(z1)\n",
    "pred = pred.detach()\n",
    "imshow(torchvision.utils.make_grid(pred))"
   ]
  },
  {
   "cell_type": "code",
   "execution_count": 32,
   "id": "d6154e47",
   "metadata": {},
   "outputs": [
    {
     "name": "stderr",
     "output_type": "stream",
     "text": [
      "Clipping input data to the valid range for imshow with RGB data ([0..1] for floats or [0..255] for integers).\n"
     ]
    },
    {
     "data": {
      "image/png": "[encoded data removed]",
      "text/plain": [
       "<Figure size 640x480 with 1 Axes>"
      ]
     },
     "metadata": {},
     "output_type": "display_data"
    }
   ],
   "source": [
    "pred = fn(add_noise(z1), 10, f)\n",
    "pred = pred.reshape_as(z1)\n",
    "pred = pred.detach()\n",
    "imshow(torchvision.utils.make_grid(pred))"
   ]
  },
  {
   "cell_type": "code",
   "execution_count": 33,
   "id": "7df65fa0",
   "metadata": {},
   "outputs": [
    {
     "data": {
      "image/png": "[encoded data removed]",
      "text/plain": [
       "<Figure size 640x480 with 1 Axes>"
      ]
     },
     "metadata": {},
     "output_type": "display_data"
    }
   ],
   "source": [
    "pred = fn(add_noise(z2), 10, f)\n",
    "pred = pred.reshape_as(z1)\n",
    "pred = pred.detach()\n",
    "imshow(torchvision.utils.make_grid(pred))"
   ]
  },
  {
   "cell_type": "markdown",
   "id": "19efef09",
   "metadata": {},
   "source": [
    "Noise makes the reconstruction by autoencoder more clear. (but why?)"
   ]
  }
 ],
 "metadata": {
  "kernelspec": {
   "display_name": "Python 3 (ipykernel)",
   "language": "python",
   "name": "python3"
  },
  "language_info": {
   "codemirror_mode": {
    "name": "ipython",
    "version": 3
   },
   "file_extension": ".py",
   "mimetype": "text/x-python",
   "name": "python",
   "nbconvert_exporter": "python",
   "pygments_lexer": "ipython3",
   "version": "3.9.13"
  }
 },
 "nbformat": 4,
 "nbformat_minor": 5
}
