{
 "cells": [
  {
   "cell_type": "markdown",
   "id": "427c3491",
   "metadata": {},
   "source": [
    "## Problem 3"
   ]
  },
  {
   "cell_type": "code",
   "execution_count": 11,
   "id": "2e530ef8",
   "metadata": {},
   "outputs": [],
   "source": [
    "import torch\n",
    "import numpy as np"
   ]
  },
  {
   "cell_type": "code",
   "execution_count": 24,
   "id": "f5fc531d",
   "metadata": {},
   "outputs": [],
   "source": [
    "z = torch.normal(0, 1 , size=(100, 100), requires_grad=True)"
   ]
  },
  {
   "cell_type": "code",
   "execution_count": 25,
   "id": "73886321",
   "metadata": {},
   "outputs": [
    {
     "data": {
      "text/plain": [
       "torch.Size([100, 100])"
      ]
     },
     "execution_count": 25,
     "metadata": {},
     "output_type": "execute_result"
    }
   ],
   "source": [
    "z.shape"
   ]
  },
  {
   "cell_type": "code",
   "execution_count": 26,
   "id": "03dbae3d",
   "metadata": {},
   "outputs": [],
   "source": [
    "k = 10"
   ]
  },
  {
   "cell_type": "markdown",
   "id": "ad4c237d",
   "metadata": {},
   "source": [
    "### (a) "
   ]
  },
  {
   "cell_type": "code",
   "execution_count": 27,
   "id": "a35e7cd9",
   "metadata": {
    "scrolled": true
   },
   "outputs": [],
   "source": [
    "A = torch.normal(0, 1 , size=(100, k), requires_grad=True)\n",
    "B = torch.normal(0, 1 , size=(k, 100), requires_grad=True)"
   ]
  },
  {
   "cell_type": "code",
   "execution_count": 28,
   "id": "b12ffb10",
   "metadata": {},
   "outputs": [
    {
     "data": {
      "text/plain": [
       "tensor([[ 59.0383, -20.6970,  18.0773,  ..., -51.7492, -22.4709, -21.2283],\n",
       "        [-17.5548,  24.4850, -22.2390,  ...,   4.5258,  16.2797,  43.4206],\n",
       "        [-11.5722, -58.4828,  57.9137,  ...,  -8.2604,  12.8399, -18.1835],\n",
       "        ...,\n",
       "        [-17.7420,   7.9015, -13.5595,  ...,  12.0449, -45.4853,  16.8374],\n",
       "        [ 27.8028, -70.1621,  -6.5096,  ..., -42.1619, -45.5887,  18.6104],\n",
       "        [ 18.5015,  25.6670,  51.0816,  ..., -18.9387,  50.5449,  -5.6790]],\n",
       "       grad_fn=<MmBackward0>)"
      ]
     },
     "execution_count": 28,
     "metadata": {},
     "output_type": "execute_result"
    }
   ],
   "source": [
    "A @ B @ z"
   ]
  },
  {
   "cell_type": "code",
   "execution_count": 29,
   "id": "924b2ea6",
   "metadata": {},
   "outputs": [],
   "source": [
    "# defining the function for forward pass for prediction\n",
    "def fw(x):\n",
    "    return A @ B @ x\n",
    " \n",
    "# evaluating data points with Mean Square Error (MSE)\n",
    "def criterion(z, fw):\n",
    "    return torch.mean((z - fw) ** 2)"
   ]
  },
  {
   "cell_type": "code",
   "execution_count": null,
   "id": "343d10d3",
   "metadata": {},
   "outputs": [],
   "source": []
  }
 ],
 "metadata": {
  "kernelspec": {
   "display_name": "Python 3 (ipykernel)",
   "language": "python",
   "name": "python3"
  },
  "language_info": {
   "codemirror_mode": {
    "name": "ipython",
    "version": 3
   },
   "file_extension": ".py",
   "mimetype": "text/x-python",
   "name": "python",
   "nbconvert_exporter": "python",
   "pygments_lexer": "ipython3",
   "version": "3.9.13"
  }
 },
 "nbformat": 4,
 "nbformat_minor": 5
}
